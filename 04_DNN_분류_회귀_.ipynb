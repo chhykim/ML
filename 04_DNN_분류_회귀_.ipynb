{
 "cells": [
  {
   "cell_type": "markdown",
   "metadata": {},
   "source": [
    "# 데이터셋 API\n",
    "- 데이터 입력 파이프라인을 위한 패키지\n",
    "- tf.data 패키지에서 제공\n",
    "- tf.data.Dataset 추상클래스에서 상속된 여러가지 클래스 객체를 사용 또는 만들어 쓴다.\n",
    "\n",
    "## 데이터 입력 파이프라인이란\n",
    "**모델에 공급**되는 데이터에 대한 전처리 작업과 공급을 담당한다.    \n",
    "- 이미지 데이터의 경우\n",
    "    - 분산 파일시스템으로 부터 이미지를 모으는 작업, \n",
    "    - 이미지에 노이즈를 주거나 변형하는 작업, \n",
    "    - 배치 학습을 위해 무작위로 데이터를 선택하여 배치데이터를 만드는 작업\n",
    "- 텍스트 데이터 경우\n",
    "    - 원문을 토큰화하는 작업\n",
    "    - 임베딩하는 작업\n",
    "    - 길이가 다른 데이터를 패딩하여 합치는 작업 \n",
    "\n",
    "\n",
    "## 데이터셋 API 사용 세단계\n",
    "1. 데이터셋 생성\n",
    "    - from_tensor_slices(), from_generator() 클래스 메소드, tf.data.TFRecordDataset 클래스를 사용해 메모리나 파일에 있는 데이터를 데이터소스로 만든다.\n",
    "    - from_tensor_slices(): 리스트 넘파이배열, 텐서플로 자료형에서 데이터를 생성한다.\n",
    "2. 데이터셋 변형: map(), filter(), batch() 등 메소드를 이용해 데이터 소스를 변형한다.\n",
    "3. for 반복문에서 iterate를 통해 데이터셋 사용\n",
    "\n",
    "## Dataset의 주요 메소드\n",
    "- map(함수) : dataset의 각 원소들을 함수로 처리한다.\n",
    "- shuffle(크기): dataset의 원소들의 순서를 섞는다. 크기는 섞는 공간의 크기로  **데이터보다 크거나 같으면** 완전셔플, **적으면 일부만 가져와서 섞어** 완전셔플이 안된다.=>데이터가 너무너무 많으면 적게 주기도 한다.)\n",
    "- batch(size) : 반복시 제공할 데이터 수. 지정한 batch size만큼 data를 꺼내준다."
   ]
  },
  {
   "cell_type": "code",
   "execution_count": 1,
   "metadata": {},
   "outputs": [],
   "source": [
    "import tensorflow as tf\n",
    "import numpy as np"
   ]
  },
  {
   "cell_type": "code",
   "execution_count": 39,
   "metadata": {},
   "outputs": [],
   "source": [
    "arr = np.arange(9)  #0 ~ 8: 9"
   ]
  },
  {
   "cell_type": "code",
   "execution_count": 40,
   "metadata": {},
   "outputs": [
    {
     "data": {
      "text/plain": [
       "tensorflow.python.data.ops.dataset_ops.TensorSliceDataset"
      ]
     },
     "execution_count": 40,
     "metadata": {},
     "output_type": "execute_result"
    }
   ],
   "source": [
    "# 메모리에 ndarray로 저장된 데이터를 이용해 Dataset 객체를 생성\n",
    "dataset = tf.data.Dataset.from_tensor_slices(arr)\n",
    "type(dataset)"
   ]
  },
  {
   "cell_type": "code",
   "execution_count": 41,
   "metadata": {},
   "outputs": [
    {
     "data": {
      "text/plain": [
       "tensorflow.python.data.ops.dataset_ops.MapDataset"
      ]
     },
     "execution_count": 41,
     "metadata": {},
     "output_type": "execute_result"
    }
   ],
   "source": [
    "# 각각 원소를 변환 작업을 Dataset 추가. - Dataset.map(변환함수)\\\n",
    "dataset = dataset.map(lambda x:x**2)\n",
    "type(dataset)"
   ]
  },
  {
   "cell_type": "code",
   "execution_count": 42,
   "metadata": {},
   "outputs": [],
   "source": [
    "# dataset = dataset.filter(lambda x : x%2 == 0) #2에 배수만 걸러내기\n",
    "# def func(x):\n",
    "#     return x%2 == 0"
   ]
  },
  {
   "cell_type": "code",
   "execution_count": 43,
   "metadata": {},
   "outputs": [],
   "source": [
    "dataset = dataset.shuffle(9) #값들을 섞는 작업"
   ]
  },
  {
   "cell_type": "code",
   "execution_count": 44,
   "metadata": {},
   "outputs": [],
   "source": [
    "dataset = dataset.batch(4) #한번에 지정한 개수(3)만큼 제공"
   ]
  },
  {
   "cell_type": "code",
   "execution_count": 45,
   "metadata": {
    "collapsed": true
   },
   "outputs": [
    {
     "name": "stdout",
     "output_type": "stream",
     "text": [
      "tf.Tensor([ 1 16 36 25], shape=(4,), dtype=int32)\n",
      "tf.Tensor([ 0  4 64 49], shape=(4,), dtype=int32)\n",
      "tf.Tensor([9], shape=(1,), dtype=int32)\n"
     ]
    }
   ],
   "source": [
    "for a in dataset:\n",
    "    print(a)"
   ]
  },
  {
   "cell_type": "code",
   "execution_count": 29,
   "metadata": {
    "collapsed": true
   },
   "outputs": [
    {
     "name": "stdout",
     "output_type": "stream",
     "text": [
      "tf.Tensor(64, shape=(), dtype=int32)\n",
      "tf.Tensor(4, shape=(), dtype=int32)\n",
      "tf.Tensor(9, shape=(), dtype=int32)\n",
      "tf.Tensor(1, shape=(), dtype=int32)\n",
      "tf.Tensor(0, shape=(), dtype=int32)\n",
      "tf.Tensor(16, shape=(), dtype=int32)\n",
      "tf.Tensor(49, shape=(), dtype=int32)\n",
      "tf.Tensor(25, shape=(), dtype=int32)\n",
      "tf.Tensor(36, shape=(), dtype=int32)\n"
     ]
    }
   ],
   "source": [
    "# Dataset에서 제공되는 값들을 조회\n",
    "for a in dataset:\n",
    "    print(a)"
   ]
  },
  {
   "cell_type": "code",
   "execution_count": 46,
   "metadata": {},
   "outputs": [
    {
     "data": {
      "text/plain": [
       "((10,), (10,))"
      ]
     },
     "execution_count": 46,
     "metadata": {},
     "output_type": "execute_result"
    }
   ],
   "source": [
    "x = np.arange(10)\n",
    "y = np.arange(10, 20)\n",
    "x.shape, y.shape"
   ]
  },
  {
   "cell_type": "code",
   "execution_count": 48,
   "metadata": {},
   "outputs": [],
   "source": [
    "ds = tf.data.Dataset.from_tensor_slices((x,y))"
   ]
  },
  {
   "cell_type": "code",
   "execution_count": 50,
   "metadata": {
    "collapsed": true
   },
   "outputs": [
    {
     "name": "stdout",
     "output_type": "stream",
     "text": [
      "(<tf.Tensor: shape=(), dtype=int32, numpy=0>, <tf.Tensor: shape=(), dtype=int32, numpy=10>)\n",
      "(<tf.Tensor: shape=(), dtype=int32, numpy=1>, <tf.Tensor: shape=(), dtype=int32, numpy=11>)\n",
      "(<tf.Tensor: shape=(), dtype=int32, numpy=2>, <tf.Tensor: shape=(), dtype=int32, numpy=12>)\n",
      "(<tf.Tensor: shape=(), dtype=int32, numpy=3>, <tf.Tensor: shape=(), dtype=int32, numpy=13>)\n",
      "(<tf.Tensor: shape=(), dtype=int32, numpy=4>, <tf.Tensor: shape=(), dtype=int32, numpy=14>)\n",
      "(<tf.Tensor: shape=(), dtype=int32, numpy=5>, <tf.Tensor: shape=(), dtype=int32, numpy=15>)\n",
      "(<tf.Tensor: shape=(), dtype=int32, numpy=6>, <tf.Tensor: shape=(), dtype=int32, numpy=16>)\n",
      "(<tf.Tensor: shape=(), dtype=int32, numpy=7>, <tf.Tensor: shape=(), dtype=int32, numpy=17>)\n",
      "(<tf.Tensor: shape=(), dtype=int32, numpy=8>, <tf.Tensor: shape=(), dtype=int32, numpy=18>)\n",
      "(<tf.Tensor: shape=(), dtype=int32, numpy=9>, <tf.Tensor: shape=(), dtype=int32, numpy=19>)\n"
     ]
    }
   ],
   "source": [
    "for a in ds:\n",
    "    print(a)"
   ]
  },
  {
   "cell_type": "code",
   "execution_count": 55,
   "metadata": {},
   "outputs": [],
   "source": [
    "ds2 = ds.map(lambda x, y : (x**2, y**3))   #x:2제곱, y: 3제곱\n",
    "# def map_func(x, y): #dataset에 두개의 배열을 넣었을 경우 변수 두개로 각각 받는다. \n",
    "#     return (x**2, y**3)"
   ]
  },
  {
   "cell_type": "code",
   "execution_count": 56,
   "metadata": {
    "collapsed": true
   },
   "outputs": [
    {
     "name": "stdout",
     "output_type": "stream",
     "text": [
      "(<tf.Tensor: shape=(), dtype=int32, numpy=0>, <tf.Tensor: shape=(), dtype=int32, numpy=10>)\n",
      "(<tf.Tensor: shape=(), dtype=int32, numpy=1>, <tf.Tensor: shape=(), dtype=int32, numpy=11>)\n",
      "(<tf.Tensor: shape=(), dtype=int32, numpy=4>, <tf.Tensor: shape=(), dtype=int32, numpy=12>)\n",
      "(<tf.Tensor: shape=(), dtype=int32, numpy=9>, <tf.Tensor: shape=(), dtype=int32, numpy=13>)\n",
      "(<tf.Tensor: shape=(), dtype=int32, numpy=16>, <tf.Tensor: shape=(), dtype=int32, numpy=14>)\n",
      "(<tf.Tensor: shape=(), dtype=int32, numpy=25>, <tf.Tensor: shape=(), dtype=int32, numpy=15>)\n",
      "(<tf.Tensor: shape=(), dtype=int32, numpy=36>, <tf.Tensor: shape=(), dtype=int32, numpy=16>)\n",
      "(<tf.Tensor: shape=(), dtype=int32, numpy=49>, <tf.Tensor: shape=(), dtype=int32, numpy=17>)\n",
      "(<tf.Tensor: shape=(), dtype=int32, numpy=64>, <tf.Tensor: shape=(), dtype=int32, numpy=18>)\n",
      "(<tf.Tensor: shape=(), dtype=int32, numpy=81>, <tf.Tensor: shape=(), dtype=int32, numpy=19>)\n"
     ]
    }
   ],
   "source": [
    "for a in ds2:\n",
    "    print(a)"
   ]
  },
  {
   "cell_type": "code",
   "execution_count": 59,
   "metadata": {},
   "outputs": [],
   "source": [
    "ds3 = ds2.shuffle(10)"
   ]
  },
  {
   "cell_type": "code",
   "execution_count": 60,
   "metadata": {
    "collapsed": true
   },
   "outputs": [
    {
     "name": "stdout",
     "output_type": "stream",
     "text": [
      "(<tf.Tensor: shape=(), dtype=int32, numpy=36>, <tf.Tensor: shape=(), dtype=int32, numpy=16>)\n",
      "(<tf.Tensor: shape=(), dtype=int32, numpy=4>, <tf.Tensor: shape=(), dtype=int32, numpy=12>)\n",
      "(<tf.Tensor: shape=(), dtype=int32, numpy=81>, <tf.Tensor: shape=(), dtype=int32, numpy=19>)\n",
      "(<tf.Tensor: shape=(), dtype=int32, numpy=49>, <tf.Tensor: shape=(), dtype=int32, numpy=17>)\n",
      "(<tf.Tensor: shape=(), dtype=int32, numpy=25>, <tf.Tensor: shape=(), dtype=int32, numpy=15>)\n",
      "(<tf.Tensor: shape=(), dtype=int32, numpy=9>, <tf.Tensor: shape=(), dtype=int32, numpy=13>)\n",
      "(<tf.Tensor: shape=(), dtype=int32, numpy=16>, <tf.Tensor: shape=(), dtype=int32, numpy=14>)\n",
      "(<tf.Tensor: shape=(), dtype=int32, numpy=64>, <tf.Tensor: shape=(), dtype=int32, numpy=18>)\n",
      "(<tf.Tensor: shape=(), dtype=int32, numpy=1>, <tf.Tensor: shape=(), dtype=int32, numpy=11>)\n",
      "(<tf.Tensor: shape=(), dtype=int32, numpy=0>, <tf.Tensor: shape=(), dtype=int32, numpy=10>)\n"
     ]
    }
   ],
   "source": [
    "for a in ds3:\n",
    "    print(a)"
   ]
  },
  {
   "cell_type": "code",
   "execution_count": 61,
   "metadata": {},
   "outputs": [],
   "source": [
    "ds4 = ds3.batch(4)"
   ]
  },
  {
   "cell_type": "code",
   "execution_count": 62,
   "metadata": {},
   "outputs": [
    {
     "name": "stdout",
     "output_type": "stream",
     "text": [
      "(<tf.Tensor: shape=(4,), dtype=int32, numpy=array([0, 1, 4, 9])>, <tf.Tensor: shape=(4,), dtype=int32, numpy=array([10, 11, 12, 13])>)\n",
      "(<tf.Tensor: shape=(4,), dtype=int32, numpy=array([16, 25, 36, 49])>, <tf.Tensor: shape=(4,), dtype=int32, numpy=array([14, 15, 16, 17])>)\n",
      "(<tf.Tensor: shape=(2,), dtype=int32, numpy=array([64, 81])>, <tf.Tensor: shape=(2,), dtype=int32, numpy=array([18, 19])>)\n"
     ]
    }
   ],
   "source": [
    "for a in ds4:\n",
    "    print(a)"
   ]
  },
  {
   "cell_type": "code",
   "execution_count": 64,
   "metadata": {
    "collapsed": true
   },
   "outputs": [
    {
     "name": "stdout",
     "output_type": "stream",
     "text": [
      "(<tf.Tensor: shape=(4,), dtype=int32, numpy=array([0, 1, 4, 9])>, <tf.Tensor: shape=(4,), dtype=int32, numpy=array([10, 11, 12, 13])>)\n",
      "(<tf.Tensor: shape=(4,), dtype=int32, numpy=array([16, 25, 36, 49])>, <tf.Tensor: shape=(4,), dtype=int32, numpy=array([14, 15, 16, 17])>)\n",
      "(<tf.Tensor: shape=(2,), dtype=int32, numpy=array([64, 81])>, <tf.Tensor: shape=(2,), dtype=int32, numpy=array([18, 19])>)\n",
      "(<tf.Tensor: shape=(4,), dtype=int32, numpy=array([0, 1, 4, 9])>, <tf.Tensor: shape=(4,), dtype=int32, numpy=array([10, 11, 12, 13])>)\n",
      "(<tf.Tensor: shape=(4,), dtype=int32, numpy=array([16, 25, 36, 49])>, <tf.Tensor: shape=(4,), dtype=int32, numpy=array([14, 15, 16, 17])>)\n",
      "(<tf.Tensor: shape=(2,), dtype=int32, numpy=array([64, 81])>, <tf.Tensor: shape=(2,), dtype=int32, numpy=array([18, 19])>)\n",
      "(<tf.Tensor: shape=(4,), dtype=int32, numpy=array([0, 1, 4, 9])>, <tf.Tensor: shape=(4,), dtype=int32, numpy=array([10, 11, 12, 13])>)\n",
      "(<tf.Tensor: shape=(4,), dtype=int32, numpy=array([16, 25, 36, 49])>, <tf.Tensor: shape=(4,), dtype=int32, numpy=array([14, 15, 16, 17])>)\n",
      "(<tf.Tensor: shape=(2,), dtype=int32, numpy=array([64, 81])>, <tf.Tensor: shape=(2,), dtype=int32, numpy=array([18, 19])>)\n"
     ]
    }
   ],
   "source": [
    "for a in ds4.repeat(3): #dataset.repeat(count) count횟수만큼 반복. count생략시 무한제공\n",
    "    print(a)"
   ]
  },
  {
   "cell_type": "code",
   "execution_count": 84,
   "metadata": {},
   "outputs": [],
   "source": [
    "dataset = tf.data.Dataset.from_tensor_slices((x, y)).map(lambda x, y : (x**2, y**3)).shuffle(10).batch(4)#.repeat(3)"
   ]
  },
  {
   "cell_type": "code",
   "execution_count": 85,
   "metadata": {},
   "outputs": [
    {
     "name": "stdout",
     "output_type": "stream",
     "text": [
      "(<tf.Tensor: shape=(4,), dtype=int32, numpy=array([ 9, 64,  0, 81])>, <tf.Tensor: shape=(4,), dtype=int32, numpy=array([2197, 5832, 1000, 6859])>)\n",
      "(<tf.Tensor: shape=(4,), dtype=int32, numpy=array([ 1, 36, 49, 25])>, <tf.Tensor: shape=(4,), dtype=int32, numpy=array([1331, 4096, 4913, 3375])>)\n",
      "(<tf.Tensor: shape=(2,), dtype=int32, numpy=array([ 4, 16])>, <tf.Tensor: shape=(2,), dtype=int32, numpy=array([1728, 2744])>)\n"
     ]
    }
   ],
   "source": [
    "for a in dataset:\n",
    "    print(a)"
   ]
  },
  {
   "cell_type": "code",
   "execution_count": 88,
   "metadata": {},
   "outputs": [],
   "source": [
    "dataset = tf.data.Dataset.from_tensor_slices((x, y)).map(lambda x, y : (x**2, y**3)).shuffle(10).batch(4, drop_remainder=True)#.repeat(3)"
   ]
  },
  {
   "cell_type": "code",
   "execution_count": 89,
   "metadata": {},
   "outputs": [
    {
     "name": "stdout",
     "output_type": "stream",
     "text": [
      "(<tf.Tensor: shape=(4,), dtype=int32, numpy=array([ 0, 16, 81, 25])>, <tf.Tensor: shape=(4,), dtype=int32, numpy=array([1000, 2744, 6859, 3375])>)\n",
      "(<tf.Tensor: shape=(4,), dtype=int32, numpy=array([ 9, 64, 36,  1])>, <tf.Tensor: shape=(4,), dtype=int32, numpy=array([2197, 5832, 4096, 1331])>)\n"
     ]
    }
   ],
   "source": [
    "for a in dataset:\n",
    "    print(a)"
   ]
  },
  {
   "cell_type": "markdown",
   "metadata": {},
   "source": [
    "# 1. 회귀 - Boston Housing Dataset\n",
    "보스턴 주택가격 dataset은 다음과 같은 속성을 바탕으로 해당 타운 주택 가격의 중앙값을 예측하는 문제.\n",
    "- CRIM: 범죄율\n",
    "- ZN: 25,000 평방피트당 주거지역 비율\n",
    "- INDUS: 비소매 상업지구 비율\n",
    "- CHAS: 찰스강에 인접해 있는지 여부(인접:1, 아니면:0)\n",
    "- NOX: 일산화질소 농도(단위: 0.1ppm)\n",
    "- RM: 주택당 방의 수\n",
    "- AGE: 1940년 이전에 건설된 주택의 비율\n",
    "- DIS: 5개의 보스턴 직업고용센터와의 거리(가중 평균)\n",
    "- RAD: 고속도로 접근성\n",
    "- TAX: 재산세율\n",
    "- PTRATIO: 학생/교사 비율\n",
    "- B: 흑인 비율\n",
    "- LSTAT: 하위 계층 비율\n",
    "\n",
    "예측해야하는 것\n",
    "- MEDV: 타운의 주택가격 중앙값(단위: 1,000달러)"
   ]
  },
  {
   "cell_type": "code",
   "execution_count": 1,
   "metadata": {},
   "outputs": [],
   "source": [
    "import numpy as np\n",
    "import tensorflow as tf\n",
    "from tensorflow import keras"
   ]
  },
  {
   "cell_type": "code",
   "execution_count": 2,
   "metadata": {},
   "outputs": [],
   "source": [
    "# random seed\n",
    "np.random.seed(1)\n",
    "tf.random.set_seed(1)"
   ]
  },
  {
   "cell_type": "code",
   "execution_count": 3,
   "metadata": {},
   "outputs": [
    {
     "data": {
      "text/plain": [
       "((404, 13), (102, 13))"
      ]
     },
     "execution_count": 3,
     "metadata": {},
     "output_type": "execute_result"
    }
   ],
   "source": [
    "#데이터셋 로딩\n",
    "(X_train, y_train), (X_test, y_test) = keras.datasets.boston_housing.load_data()\n",
    "X_train.shape, X_test.shape"
   ]
  },
  {
   "cell_type": "code",
   "execution_count": 4,
   "metadata": {},
   "outputs": [
    {
     "data": {
      "text/plain": [
       "array([15.2, 42.3, 50. , 21.1, 17.7])"
      ]
     },
     "execution_count": 4,
     "metadata": {},
     "output_type": "execute_result"
    }
   ],
   "source": [
    "y_train[:5] #회귀(Regression)"
   ]
  },
  {
   "cell_type": "code",
   "execution_count": 5,
   "metadata": {},
   "outputs": [
    {
     "data": {
      "text/plain": [
       "array([  1.23247,   0.     ,   8.14   ,   0.     ,   0.538  ,   6.142  ,\n",
       "        91.7    ,   3.9769 ,   4.     , 307.     ,  21.     , 396.9    ,\n",
       "        18.72   ])"
      ]
     },
     "execution_count": 5,
     "metadata": {},
     "output_type": "execute_result"
    }
   ],
   "source": [
    "X_train[0]"
   ]
  },
  {
   "cell_type": "code",
   "execution_count": 6,
   "metadata": {},
   "outputs": [],
   "source": [
    "# 하이퍼파라미터 값들을 설정\n",
    "LEARNING_RATE = 0.001 #학습률\n",
    "N_EPOCHS = 200 #에폭 횟수. 1 epoch 전체 데이터셋을 한번 사용한것.\n",
    "N_BATCHS = 32  #batch_size. 32개 데이터셋 마다 파라미터들(가중치) 업데이트. \n",
    "\n",
    "N_TRAIN = X_train.shape[0] #train set의 개수\n",
    "N_TEST = X_test.shape[0]  #test set 의 개수\n",
    "N_FEATURES = X_train.shape[1] #input data의  feature(컬럼) 개수"
   ]
  },
  {
   "cell_type": "code",
   "execution_count": 7,
   "metadata": {},
   "outputs": [],
   "source": [
    "# Dataset 생성\n",
    "# drop_remainder=True: 마지막에 batch size보다 제공할 데이터가 적으면 학습시 제공하지 말고 버려라.\n",
    "# repeat(): 여러 epoch을 돌때마다 계속 데이터를 제공하게 하기 위해.  repeat()를 지정하지 않으면 1 에폭후 데이터를 제공하지 못한다.\n",
    "train_dataset = tf.data.Dataset.from_tensor_slices((X_train, y_train)).shuffle(N_TRAIN).batch(N_BATCHS, drop_remainder=True).repeat()\n",
    "val_dataset = tf.data.Dataset.from_tensor_slices((X_test, y_test)).batch(N_BATCHS)"
   ]
  },
  {
   "cell_type": "code",
   "execution_count": 8,
   "metadata": {},
   "outputs": [],
   "source": [
    "# 모델 생성\n",
    "def create_model():\n",
    "    model = keras.Sequential()\n",
    "    # 입력 Layer를 따로 정의.\n",
    "    # 첫번째 Layer를 만들때 input_shape(1개의 입력데이터의 형태)를 지정하면 입력 Layer층이 자동으로 생성된다.\n",
    "    model.add(keras.layers.Dense(units=16, activation='relu', input_shape=(N_FEATURES,))) \n",
    "    model.add(keras.layers.Dense(units=8, activation='relu'))\n",
    "    # 출력 Layer \n",
    "    model.add(keras.layers.Dense(units=1)) #회귀의 출력층: units수는 1, activation 함수는 사용하지 않는다.\n",
    "    \n",
    "    # 모델 컴파일\n",
    "    model.compile(optimizer=tf.keras.optimizers.Adam(learning_rate=LEARNING_RATE), # optimizer의 하이퍼파라미터를 기본값으로 쓸경우 문자열로 \"adam\"으로 선언하면됨.\n",
    "                  loss='mse') #회귀의 Loss 함수: mse\n",
    "    return model"
   ]
  },
  {
   "cell_type": "code",
   "execution_count": 9,
   "metadata": {},
   "outputs": [],
   "source": [
    "model = create_model()"
   ]
  },
  {
   "cell_type": "code",
   "execution_count": 10,
   "metadata": {},
   "outputs": [
    {
     "name": "stdout",
     "output_type": "stream",
     "text": [
      "Model: \"sequential\"\n",
      "_________________________________________________________________\n",
      "Layer (type)                 Output Shape              Param #   \n",
      "=================================================================\n",
      "dense (Dense)                (None, 16)                224       \n",
      "_________________________________________________________________\n",
      "dense_1 (Dense)              (None, 8)                 136       \n",
      "_________________________________________________________________\n",
      "dense_2 (Dense)              (None, 1)                 9         \n",
      "=================================================================\n",
      "Total params: 369\n",
      "Trainable params: 369\n",
      "Non-trainable params: 0\n",
      "_________________________________________________________________\n"
     ]
    }
   ],
   "source": [
    "model.summary()"
   ]
  },
  {
   "cell_type": "code",
   "execution_count": 12,
   "metadata": {},
   "outputs": [],
   "source": [
    "# 1 step: 한번 가중치를 업데이트. batch size\n",
    "# 1 epoch: 전체 train 데이터를 한번 학습\n",
    "steps_per_epoch = N_TRAIN // N_BATCHS  # 학습데이터개수 // 배치수\n",
    "validation_steps = int(np.ceil(N_TEST/N_BATCHS))"
   ]
  },
  {
   "cell_type": "code",
   "execution_count": 13,
   "metadata": {},
   "outputs": [
    {
     "name": "stdout",
     "output_type": "stream",
     "text": [
      "Train for 12 steps, validate for 4 steps\n",
      "Epoch 1/200\n",
      "12/12 [==============================] - 1s 71ms/step - loss: 402.1756 - val_loss: 239.0792\n",
      "Epoch 2/200\n",
      "12/12 [==============================] - 0s 7ms/step - loss: 151.8999 - val_loss: 120.9074\n",
      "Epoch 3/200\n",
      "12/12 [==============================] - 0s 5ms/step - loss: 81.3070 - val_loss: 104.4386\n",
      "Epoch 4/200\n",
      "12/12 [==============================] - 0s 11ms/step - loss: 77.1330 - val_loss: 99.5287\n",
      "Epoch 5/200\n",
      "12/12 [==============================] - 0s 7ms/step - loss: 73.2870 - val_loss: 102.3875\n",
      "Epoch 6/200\n",
      "12/12 [==============================] - 0s 9ms/step - loss: 73.6594 - val_loss: 96.8372\n",
      "Epoch 7/200\n",
      "12/12 [==============================] - 0s 10ms/step - loss: 68.5961 - val_loss: 105.7052\n",
      "Epoch 8/200\n",
      "12/12 [==============================] - 0s 11ms/step - loss: 68.1735 - val_loss: 96.7148\n",
      "Epoch 9/200\n",
      "12/12 [==============================] - 0s 8ms/step - loss: 64.4891 - val_loss: 99.6242\n",
      "Epoch 10/200\n",
      "12/12 [==============================] - 0s 4ms/step - loss: 64.8099 - val_loss: 94.7956\n",
      "Epoch 11/200\n",
      "12/12 [==============================] - 0s 6ms/step - loss: 65.4377 - val_loss: 93.5169\n",
      "Epoch 12/200\n",
      "12/12 [==============================] - 0s 8ms/step - loss: 62.9740 - val_loss: 92.2851\n",
      "Epoch 13/200\n",
      "12/12 [==============================] - 0s 10ms/step - loss: 63.7099 - val_loss: 90.6814\n",
      "Epoch 14/200\n",
      "12/12 [==============================] - 0s 8ms/step - loss: 65.0336 - val_loss: 90.3487\n",
      "Epoch 15/200\n",
      "12/12 [==============================] - 0s 8ms/step - loss: 63.9684 - val_loss: 90.3886\n",
      "Epoch 16/200\n",
      "12/12 [==============================] - 0s 4ms/step - loss: 62.0394 - val_loss: 88.6108\n",
      "Epoch 17/200\n",
      "12/12 [==============================] - 0s 8ms/step - loss: 62.4096 - val_loss: 93.4703\n",
      "Epoch 18/200\n",
      "12/12 [==============================] - 0s 10ms/step - loss: 59.5261 - val_loss: 85.1806\n",
      "Epoch 19/200\n",
      "12/12 [==============================] - 0s 5ms/step - loss: 61.3428 - val_loss: 86.0758\n",
      "Epoch 20/200\n",
      "12/12 [==============================] - 0s 6ms/step - loss: 58.3868 - val_loss: 86.5942\n",
      "Epoch 21/200\n",
      "12/12 [==============================] - 0s 9ms/step - loss: 59.8239 - val_loss: 83.0461\n",
      "Epoch 22/200\n",
      "12/12 [==============================] - 0s 9ms/step - loss: 60.4442 - val_loss: 81.0010\n",
      "Epoch 23/200\n",
      "12/12 [==============================] - 0s 6ms/step - loss: 57.6439 - val_loss: 86.8079\n",
      "Epoch 24/200\n",
      "12/12 [==============================] - 0s 5ms/step - loss: 58.5588 - val_loss: 80.0078\n",
      "Epoch 25/200\n",
      "12/12 [==============================] - 0s 7ms/step - loss: 55.6146 - val_loss: 80.8006\n",
      "Epoch 26/200\n",
      "12/12 [==============================] - 0s 10ms/step - loss: 55.1755 - val_loss: 86.5272\n",
      "Epoch 27/200\n",
      "12/12 [==============================] - 0s 7ms/step - loss: 56.7222 - val_loss: 76.9069\n",
      "Epoch 28/200\n",
      "12/12 [==============================] - 0s 5ms/step - loss: 55.2426 - val_loss: 80.4709\n",
      "Epoch 29/200\n",
      "12/12 [==============================] - 0s 9ms/step - loss: 56.0066 - val_loss: 76.2385\n",
      "Epoch 30/200\n",
      "12/12 [==============================] - 0s 11ms/step - loss: 55.0820 - val_loss: 81.3397\n",
      "Epoch 31/200\n",
      "12/12 [==============================] - 0s 6ms/step - loss: 54.4144 - val_loss: 74.7921\n",
      "Epoch 32/200\n",
      "12/12 [==============================] - 0s 6ms/step - loss: 53.5696 - val_loss: 79.9435\n",
      "Epoch 33/200\n",
      "12/12 [==============================] - 0s 6ms/step - loss: 51.9430 - val_loss: 74.4227\n",
      "Epoch 34/200\n",
      "12/12 [==============================] - 0s 9ms/step - loss: 50.8528 - val_loss: 74.4612\n",
      "Epoch 35/200\n",
      "12/12 [==============================] - 0s 8ms/step - loss: 52.0572 - val_loss: 72.3950\n",
      "Epoch 36/200\n",
      "12/12 [==============================] - 0s 4ms/step - loss: 56.3639 - val_loss: 75.0957\n",
      "Epoch 37/200\n",
      "12/12 [==============================] - 0s 6ms/step - loss: 58.0538 - val_loss: 72.7176\n",
      "Epoch 38/200\n",
      "12/12 [==============================] - 0s 3ms/step - loss: 55.8469 - val_loss: 85.8494\n",
      "Epoch 39/200\n",
      "12/12 [==============================] - 0s 5ms/step - loss: 50.7781 - val_loss: 71.2032\n",
      "Epoch 40/200\n",
      "12/12 [==============================] - 0s 3ms/step - loss: 50.5251 - val_loss: 69.4462\n",
      "Epoch 41/200\n",
      "12/12 [==============================] - 0s 5ms/step - loss: 50.2312 - val_loss: 71.2047\n",
      "Epoch 42/200\n",
      "12/12 [==============================] - 0s 4ms/step - loss: 51.1090 - val_loss: 72.6919\n",
      "Epoch 43/200\n",
      "12/12 [==============================] - 0s 6ms/step - loss: 47.1106 - val_loss: 69.0461\n",
      "Epoch 44/200\n",
      "12/12 [==============================] - 0s 8ms/step - loss: 46.9172 - val_loss: 68.4506\n",
      "Epoch 45/200\n",
      "12/12 [==============================] - 0s 6ms/step - loss: 49.1659 - val_loss: 67.5604\n",
      "Epoch 46/200\n",
      "12/12 [==============================] - 0s 9ms/step - loss: 49.5845 - val_loss: 66.6459\n",
      "Epoch 47/200\n",
      "12/12 [==============================] - 0s 6ms/step - loss: 49.9568 - val_loss: 67.4414\n",
      "Epoch 48/200\n",
      "12/12 [==============================] - 0s 4ms/step - loss: 47.2701 - val_loss: 66.8274\n",
      "Epoch 49/200\n",
      "12/12 [==============================] - 0s 8ms/step - loss: 48.2489 - val_loss: 67.0387\n",
      "Epoch 50/200\n",
      "12/12 [==============================] - 0s 8ms/step - loss: 50.1579 - val_loss: 64.6146\n",
      "Epoch 51/200\n",
      "12/12 [==============================] - 0s 5ms/step - loss: 45.3427 - val_loss: 64.9217\n",
      "Epoch 52/200\n",
      "12/12 [==============================] - 0s 8ms/step - loss: 45.7545 - val_loss: 65.2818\n",
      "Epoch 53/200\n",
      "12/12 [==============================] - 0s 3ms/step - loss: 42.2191 - val_loss: 63.4426\n",
      "Epoch 54/200\n",
      "12/12 [==============================] - 0s 7ms/step - loss: 45.6220 - val_loss: 63.8125\n",
      "Epoch 55/200\n",
      "12/12 [==============================] - 0s 8ms/step - loss: 44.3202 - val_loss: 62.9416\n",
      "Epoch 56/200\n",
      "12/12 [==============================] - 0s 10ms/step - loss: 44.7217 - val_loss: 68.6659\n",
      "Epoch 57/200\n",
      "12/12 [==============================] - 0s 4ms/step - loss: 47.4383 - val_loss: 66.9072\n",
      "Epoch 58/200\n",
      "12/12 [==============================] - 0s 9ms/step - loss: 46.6368 - val_loss: 61.3961\n",
      "Epoch 59/200\n",
      "12/12 [==============================] - 0s 4ms/step - loss: 43.9872 - val_loss: 60.6247\n",
      "Epoch 60/200\n",
      "12/12 [==============================] - 0s 5ms/step - loss: 45.9647 - val_loss: 60.7900\n",
      "Epoch 61/200\n",
      "12/12 [==============================] - 0s 3ms/step - loss: 45.2187 - val_loss: 60.5361\n",
      "Epoch 62/200\n",
      "12/12 [==============================] - 0s 5ms/step - loss: 42.1026 - val_loss: 60.4174\n",
      "Epoch 63/200\n",
      "12/12 [==============================] - 0s 3ms/step - loss: 41.8696 - val_loss: 59.3985\n",
      "Epoch 64/200\n",
      "12/12 [==============================] - 0s 5ms/step - loss: 43.5113 - val_loss: 59.2489\n",
      "Epoch 65/200\n",
      "12/12 [==============================] - 0s 4ms/step - loss: 43.1631 - val_loss: 63.9555\n",
      "Epoch 66/200\n",
      "12/12 [==============================] - 0s 4ms/step - loss: 42.6488 - val_loss: 58.7775\n",
      "Epoch 67/200\n",
      "12/12 [==============================] - 0s 5ms/step - loss: 42.6960 - val_loss: 66.3218\n",
      "Epoch 68/200\n",
      "12/12 [==============================] - 0s 10ms/step - loss: 43.9614 - val_loss: 58.9223\n",
      "Epoch 69/200\n",
      "12/12 [==============================] - 0s 10ms/step - loss: 41.6968 - val_loss: 57.4759\n",
      "Epoch 70/200\n",
      "12/12 [==============================] - 0s 5ms/step - loss: 40.7622 - val_loss: 59.4052\n",
      "Epoch 71/200\n",
      "12/12 [==============================] - 0s 5ms/step - loss: 40.9530 - val_loss: 56.1775\n",
      "Epoch 72/200\n",
      "12/12 [==============================] - 0s 5ms/step - loss: 42.1056 - val_loss: 59.9877\n",
      "Epoch 73/200\n",
      "12/12 [==============================] - 0s 4ms/step - loss: 41.6055 - val_loss: 59.9041\n",
      "Epoch 74/200\n",
      "12/12 [==============================] - 0s 5ms/step - loss: 38.9769 - val_loss: 58.0634\n",
      "Epoch 75/200\n",
      "12/12 [==============================] - 0s 4ms/step - loss: 41.9724 - val_loss: 54.7375\n",
      "Epoch 76/200\n",
      "12/12 [==============================] - 0s 8ms/step - loss: 39.4094 - val_loss: 56.1887\n",
      "Epoch 77/200\n",
      "12/12 [==============================] - 0s 10ms/step - loss: 39.9596 - val_loss: 60.2336\n",
      "Epoch 78/200\n",
      "12/12 [==============================] - 0s 6ms/step - loss: 39.3306 - val_loss: 55.4171\n",
      "Epoch 79/200\n",
      "12/12 [==============================] - 0s 6ms/step - loss: 41.4842 - val_loss: 57.4870\n",
      "Epoch 80/200\n",
      "12/12 [==============================] - 0s 7ms/step - loss: 35.7655 - val_loss: 53.9507\n"
     ]
    },
    {
     "name": "stdout",
     "output_type": "stream",
     "text": [
      "Epoch 81/200\n",
      "12/12 [==============================] - 0s 7ms/step - loss: 40.6395 - val_loss: 53.9089\n",
      "Epoch 82/200\n",
      "12/12 [==============================] - 0s 5ms/step - loss: 41.8409 - val_loss: 63.6541\n",
      "Epoch 83/200\n",
      "12/12 [==============================] - 0s 6ms/step - loss: 41.3783 - val_loss: 53.3382\n",
      "Epoch 84/200\n",
      "12/12 [==============================] - 0s 5ms/step - loss: 39.6774 - val_loss: 55.3795\n",
      "Epoch 85/200\n",
      "12/12 [==============================] - 0s 7ms/step - loss: 41.2063 - val_loss: 53.4620\n",
      "Epoch 86/200\n",
      "12/12 [==============================] - 0s 5ms/step - loss: 40.0407 - val_loss: 50.9151\n",
      "Epoch 87/200\n",
      "12/12 [==============================] - 0s 4ms/step - loss: 35.3876 - val_loss: 57.0341\n",
      "Epoch 88/200\n",
      "12/12 [==============================] - 0s 6ms/step - loss: 40.0828 - val_loss: 55.3768\n",
      "Epoch 89/200\n",
      "12/12 [==============================] - 0s 4ms/step - loss: 41.4325 - val_loss: 53.9549\n",
      "Epoch 90/200\n",
      "12/12 [==============================] - 0s 3ms/step - loss: 36.9179 - val_loss: 51.1429\n",
      "Epoch 91/200\n",
      "12/12 [==============================] - 0s 6ms/step - loss: 38.8322 - val_loss: 50.9436\n",
      "Epoch 92/200\n",
      "12/12 [==============================] - 0s 4ms/step - loss: 39.3039 - val_loss: 50.9130\n",
      "Epoch 93/200\n",
      "12/12 [==============================] - 0s 5ms/step - loss: 39.6712 - val_loss: 50.6565\n",
      "Epoch 94/200\n",
      "12/12 [==============================] - 0s 6ms/step - loss: 38.1553 - val_loss: 51.8271\n",
      "Epoch 95/200\n",
      "12/12 [==============================] - 0s 4ms/step - loss: 36.1023 - val_loss: 49.4534\n",
      "Epoch 96/200\n",
      "12/12 [==============================] - 0s 5ms/step - loss: 41.5882 - val_loss: 50.9062\n",
      "Epoch 97/200\n",
      "12/12 [==============================] - 0s 5ms/step - loss: 38.6762 - val_loss: 49.2382\n",
      "Epoch 98/200\n",
      "12/12 [==============================] - 0s 6ms/step - loss: 39.1162 - val_loss: 49.8827\n",
      "Epoch 99/200\n",
      "12/12 [==============================] - 0s 4ms/step - loss: 36.4666 - val_loss: 51.2218\n",
      "Epoch 100/200\n",
      "12/12 [==============================] - 0s 8ms/step - loss: 34.7881 - val_loss: 49.5943\n",
      "Epoch 101/200\n",
      "12/12 [==============================] - 0s 5ms/step - loss: 38.8773 - val_loss: 48.7423\n",
      "Epoch 102/200\n",
      "12/12 [==============================] - 0s 5ms/step - loss: 38.0817 - val_loss: 49.0095\n",
      "Epoch 103/200\n",
      "12/12 [==============================] - 0s 6ms/step - loss: 35.2724 - val_loss: 47.9767\n",
      "Epoch 104/200\n",
      "12/12 [==============================] - 0s 4ms/step - loss: 37.3092 - val_loss: 51.0182\n",
      "Epoch 105/200\n",
      "12/12 [==============================] - 0s 6ms/step - loss: 37.7346 - val_loss: 47.8397\n",
      "Epoch 106/200\n",
      "12/12 [==============================] - 0s 4ms/step - loss: 37.8885 - val_loss: 47.5388\n",
      "Epoch 107/200\n",
      "12/12 [==============================] - 0s 5ms/step - loss: 38.4335 - val_loss: 48.4857\n",
      "Epoch 108/200\n",
      "12/12 [==============================] - 0s 4ms/step - loss: 38.6801 - val_loss: 46.7803\n",
      "Epoch 109/200\n",
      "12/12 [==============================] - 0s 6ms/step - loss: 36.5863 - val_loss: 48.7671\n",
      "Epoch 110/200\n",
      "12/12 [==============================] - 0s 3ms/step - loss: 35.7232 - val_loss: 49.9738\n",
      "Epoch 111/200\n",
      "12/12 [==============================] - 0s 6ms/step - loss: 36.3928 - val_loss: 48.0733\n",
      "Epoch 112/200\n",
      "12/12 [==============================] - 0s 8ms/step - loss: 35.2898 - val_loss: 50.4938\n",
      "Epoch 113/200\n",
      "12/12 [==============================] - 0s 5ms/step - loss: 37.6640 - val_loss: 49.3602\n",
      "Epoch 114/200\n",
      "12/12 [==============================] - 0s 6ms/step - loss: 36.7590 - val_loss: 50.6795\n",
      "Epoch 115/200\n",
      "12/12 [==============================] - 0s 4ms/step - loss: 36.8200 - val_loss: 45.8221\n",
      "Epoch 116/200\n",
      "12/12 [==============================] - 0s 6ms/step - loss: 36.3729 - val_loss: 46.2563\n",
      "Epoch 117/200\n",
      "12/12 [==============================] - 0s 4ms/step - loss: 36.4167 - val_loss: 46.5439\n",
      "Epoch 118/200\n",
      "12/12 [==============================] - 0s 5ms/step - loss: 34.5780 - val_loss: 46.5030\n",
      "Epoch 119/200\n",
      "12/12 [==============================] - 0s 5ms/step - loss: 37.6742 - val_loss: 46.3432\n",
      "Epoch 120/200\n",
      "12/12 [==============================] - 0s 4ms/step - loss: 38.4758 - val_loss: 51.2389\n",
      "Epoch 121/200\n",
      "12/12 [==============================] - 0s 5ms/step - loss: 36.2951 - val_loss: 45.6070\n",
      "Epoch 122/200\n",
      "12/12 [==============================] - 0s 5ms/step - loss: 36.6792 - val_loss: 45.8387\n",
      "Epoch 123/200\n",
      "12/12 [==============================] - 0s 5ms/step - loss: 35.6400 - val_loss: 46.1335\n",
      "Epoch 124/200\n",
      "12/12 [==============================] - 0s 4ms/step - loss: 37.0662 - val_loss: 43.7563\n",
      "Epoch 125/200\n",
      "12/12 [==============================] - 0s 6ms/step - loss: 37.2502 - val_loss: 45.1508\n",
      "Epoch 126/200\n",
      "12/12 [==============================] - 0s 4ms/step - loss: 36.9471 - val_loss: 46.3435\n",
      "Epoch 127/200\n",
      "12/12 [==============================] - 0s 6ms/step - loss: 36.2343 - val_loss: 46.8887\n",
      "Epoch 128/200\n",
      "12/12 [==============================] - 0s 4ms/step - loss: 34.9077 - val_loss: 44.7797\n",
      "Epoch 129/200\n",
      "12/12 [==============================] - 0s 7ms/step - loss: 36.0079 - val_loss: 44.3926\n",
      "Epoch 130/200\n",
      "12/12 [==============================] - 0s 4ms/step - loss: 35.8052 - val_loss: 48.6851\n",
      "Epoch 131/200\n",
      "12/12 [==============================] - 0s 8ms/step - loss: 36.5314 - val_loss: 44.6947\n",
      "Epoch 132/200\n",
      "12/12 [==============================] - 0s 3ms/step - loss: 35.1258 - val_loss: 45.5119\n",
      "Epoch 133/200\n",
      "12/12 [==============================] - 0s 4ms/step - loss: 37.3060 - val_loss: 45.5628\n",
      "Epoch 134/200\n",
      "12/12 [==============================] - 0s 6ms/step - loss: 35.4222 - val_loss: 44.5694\n",
      "Epoch 135/200\n",
      "12/12 [==============================] - 0s 4ms/step - loss: 33.0794 - val_loss: 43.5407\n",
      "Epoch 136/200\n",
      "12/12 [==============================] - 0s 5ms/step - loss: 34.5928 - val_loss: 45.8809\n",
      "Epoch 137/200\n",
      "12/12 [==============================] - 0s 4ms/step - loss: 35.3102 - val_loss: 45.6709\n",
      "Epoch 138/200\n",
      "12/12 [==============================] - 0s 5ms/step - loss: 36.0494 - val_loss: 43.6593\n",
      "Epoch 139/200\n",
      "12/12 [==============================] - 0s 4ms/step - loss: 31.6362 - val_loss: 46.0003\n",
      "Epoch 140/200\n",
      "12/12 [==============================] - 0s 5ms/step - loss: 35.6327 - val_loss: 44.8853\n",
      "Epoch 141/200\n",
      "12/12 [==============================] - 0s 4ms/step - loss: 35.7827 - val_loss: 46.7908\n",
      "Epoch 142/200\n",
      "12/12 [==============================] - 0s 5ms/step - loss: 35.2612 - val_loss: 44.0635\n",
      "Epoch 143/200\n",
      "12/12 [==============================] - 0s 3ms/step - loss: 35.2579 - val_loss: 42.9545\n",
      "Epoch 144/200\n",
      "12/12 [==============================] - 0s 5ms/step - loss: 36.3229 - val_loss: 42.8788\n",
      "Epoch 145/200\n",
      "12/12 [==============================] - 0s 5ms/step - loss: 35.0171 - val_loss: 43.1785\n",
      "Epoch 146/200\n",
      "12/12 [==============================] - 0s 5ms/step - loss: 32.7783 - val_loss: 45.3316\n",
      "Epoch 147/200\n",
      "12/12 [==============================] - 0s 4ms/step - loss: 35.4734 - val_loss: 42.2680\n",
      "Epoch 148/200\n",
      "12/12 [==============================] - 0s 6ms/step - loss: 35.7032 - val_loss: 48.9488\n",
      "Epoch 149/200\n",
      "12/12 [==============================] - 0s 3ms/step - loss: 35.7451 - val_loss: 44.0936\n",
      "Epoch 150/200\n",
      "12/12 [==============================] - 0s 6ms/step - loss: 36.4797 - val_loss: 42.6408\n",
      "Epoch 151/200\n",
      "12/12 [==============================] - 0s 4ms/step - loss: 34.7162 - val_loss: 45.1105\n",
      "Epoch 152/200\n",
      "12/12 [==============================] - 0s 5ms/step - loss: 35.9736 - val_loss: 43.5559\n",
      "Epoch 153/200\n",
      "12/12 [==============================] - 0s 4ms/step - loss: 32.8387 - val_loss: 42.6934\n",
      "Epoch 154/200\n",
      "12/12 [==============================] - 0s 6ms/step - loss: 33.9922 - val_loss: 42.2322\n",
      "Epoch 155/200\n",
      "12/12 [==============================] - 0s 3ms/step - loss: 35.4931 - val_loss: 42.3189\n",
      "Epoch 156/200\n",
      "12/12 [==============================] - 0s 5ms/step - loss: 34.7526 - val_loss: 42.6368\n",
      "Epoch 157/200\n",
      "12/12 [==============================] - 0s 4ms/step - loss: 34.6434 - val_loss: 42.7124\n",
      "Epoch 158/200\n",
      "12/12 [==============================] - 0s 6ms/step - loss: 33.3328 - val_loss: 41.7090\n",
      "Epoch 159/200\n",
      "12/12 [==============================] - 0s 6ms/step - loss: 34.2025 - val_loss: 42.8937\n",
      "Epoch 160/200\n"
     ]
    },
    {
     "name": "stdout",
     "output_type": "stream",
     "text": [
      "12/12 [==============================] - 0s 9ms/step - loss: 33.3250 - val_loss: 42.3829\n",
      "Epoch 161/200\n",
      "12/12 [==============================] - 0s 8ms/step - loss: 33.8451 - val_loss: 43.0780\n",
      "Epoch 162/200\n",
      "12/12 [==============================] - 0s 8ms/step - loss: 34.4304 - val_loss: 42.0786\n",
      "Epoch 163/200\n",
      "12/12 [==============================] - 0s 6ms/step - loss: 33.9570 - val_loss: 42.5185\n",
      "Epoch 164/200\n",
      "12/12 [==============================] - 0s 5ms/step - loss: 35.2657 - val_loss: 42.1647\n",
      "Epoch 165/200\n",
      "12/12 [==============================] - 0s 9ms/step - loss: 35.4410 - val_loss: 42.4210\n",
      "Epoch 166/200\n",
      "12/12 [==============================] - 0s 3ms/step - loss: 33.9625 - val_loss: 42.6780\n",
      "Epoch 167/200\n",
      "12/12 [==============================] - 0s 8ms/step - loss: 34.1748 - val_loss: 43.0065\n",
      "Epoch 168/200\n",
      "12/12 [==============================] - 0s 6ms/step - loss: 36.5509 - val_loss: 43.5831\n",
      "Epoch 169/200\n",
      "12/12 [==============================] - 0s 3ms/step - loss: 32.7472 - val_loss: 41.8438\n",
      "Epoch 170/200\n",
      "12/12 [==============================] - 0s 6ms/step - loss: 32.7444 - val_loss: 40.8911\n",
      "Epoch 171/200\n",
      "12/12 [==============================] - 0s 4ms/step - loss: 33.2411 - val_loss: 41.8906\n",
      "Epoch 172/200\n",
      "12/12 [==============================] - 0s 9ms/step - loss: 34.6767 - val_loss: 43.4839\n",
      "Epoch 173/200\n",
      "12/12 [==============================] - 0s 6ms/step - loss: 34.8062 - val_loss: 41.1269\n",
      "Epoch 174/200\n",
      "12/12 [==============================] - 0s 5ms/step - loss: 33.0958 - val_loss: 41.2674\n",
      "Epoch 175/200\n",
      "12/12 [==============================] - ETA: 0s - loss: 63.83 - 0s 6ms/step - loss: 34.4121 - val_loss: 40.7267\n",
      "Epoch 176/200\n",
      "12/12 [==============================] - 0s 4ms/step - loss: 33.5598 - val_loss: 43.7371\n",
      "Epoch 177/200\n",
      "12/12 [==============================] - 0s 8ms/step - loss: 34.2061 - val_loss: 43.0726\n",
      "Epoch 178/200\n",
      "12/12 [==============================] - 0s 7ms/step - loss: 34.7221 - val_loss: 40.5014\n",
      "Epoch 179/200\n",
      "12/12 [==============================] - 0s 4ms/step - loss: 33.3808 - val_loss: 43.0057\n",
      "Epoch 180/200\n",
      "12/12 [==============================] - 0s 5ms/step - loss: 33.4244 - val_loss: 40.7363\n",
      "Epoch 181/200\n",
      "12/12 [==============================] - 0s 5ms/step - loss: 35.0616 - val_loss: 41.3751\n",
      "Epoch 182/200\n",
      "12/12 [==============================] - 0s 6ms/step - loss: 34.1833 - val_loss: 44.5758\n",
      "Epoch 183/200\n",
      "12/12 [==============================] - 0s 4ms/step - loss: 35.8915 - val_loss: 41.7643\n",
      "Epoch 184/200\n",
      "12/12 [==============================] - 0s 5ms/step - loss: 34.8062 - val_loss: 43.7791\n",
      "Epoch 185/200\n",
      "12/12 [==============================] - 0s 5ms/step - loss: 33.8466 - val_loss: 40.9773\n",
      "Epoch 186/200\n",
      "12/12 [==============================] - 0s 8ms/step - loss: 32.5418 - val_loss: 43.7228\n",
      "Epoch 187/200\n",
      "12/12 [==============================] - 0s 6ms/step - loss: 33.7945 - val_loss: 40.0882\n",
      "Epoch 188/200\n",
      "12/12 [==============================] - 0s 4ms/step - loss: 36.1498 - val_loss: 45.5055\n",
      "Epoch 189/200\n",
      "12/12 [==============================] - 0s 5ms/step - loss: 36.4542 - val_loss: 42.6976\n",
      "Epoch 190/200\n",
      "12/12 [==============================] - 0s 7ms/step - loss: 33.8898 - val_loss: 40.5609\n",
      "Epoch 191/200\n",
      "12/12 [==============================] - 0s 6ms/step - loss: 35.1105 - val_loss: 40.3852\n",
      "Epoch 192/200\n",
      "12/12 [==============================] - 0s 5ms/step - loss: 35.8341 - val_loss: 40.4043\n",
      "Epoch 193/200\n",
      "12/12 [==============================] - 0s 7ms/step - loss: 33.4818 - val_loss: 43.2756\n",
      "Epoch 194/200\n",
      "12/12 [==============================] - 0s 6ms/step - loss: 34.0635 - val_loss: 43.2660\n",
      "Epoch 195/200\n",
      "12/12 [==============================] - 0s 4ms/step - loss: 34.8828 - val_loss: 39.8638\n",
      "Epoch 196/200\n",
      "12/12 [==============================] - 0s 5ms/step - loss: 33.3723 - val_loss: 40.8599\n",
      "Epoch 197/200\n",
      "12/12 [==============================] - 0s 5ms/step - loss: 34.1927 - val_loss: 40.8968\n",
      "Epoch 198/200\n",
      "12/12 [==============================] - 0s 6ms/step - loss: 33.5358 - val_loss: 39.9343\n",
      "Epoch 199/200\n",
      "12/12 [==============================] - 0s 3ms/step - loss: 33.6734 - val_loss: 40.1557\n",
      "Epoch 200/200\n",
      "12/12 [==============================] - 0s 7ms/step - loss: 32.8767 - val_loss: 51.7618\n"
     ]
    }
   ],
   "source": [
    "history = model.fit(train_dataset,  #train dataset (X_train, y_train)\n",
    "                    epochs=N_EPOCHS, \n",
    "                    steps_per_epoch=steps_per_epoch, #1에폭당 step 수 tf2.4 step수 지정은 생략\n",
    "                    validation_data=val_dataset, #검증 Dataset 지정.\n",
    "                    validation_steps=validation_steps)"
   ]
  },
  {
   "cell_type": "code",
   "execution_count": 106,
   "metadata": {},
   "outputs": [
    {
     "data": {
      "text/plain": [
       "dict_keys(['loss', 'val_loss'])"
      ]
     },
     "execution_count": 106,
     "metadata": {},
     "output_type": "execute_result"
    }
   ],
   "source": [
    "history.history.keys()"
   ]
  },
  {
   "cell_type": "code",
   "execution_count": 107,
   "metadata": {
    "collapsed": true
   },
   "outputs": [
    {
     "data": {
      "text/plain": [
       "{'loss': [181.78847630818686,\n",
       "  81.61240355173747,\n",
       "  67.68961636225383,\n",
       "  62.725273768107094,\n",
       "  58.364725748697914,\n",
       "  57.47626654307047,\n",
       "  55.710411071777344,\n",
       "  54.9445481300354,\n",
       "  53.07378737131754,\n",
       "  49.60516802469889,\n",
       "  45.16101757685343,\n",
       "  48.42178185780843,\n",
       "  44.866048177083336,\n",
       "  46.14997887611389,\n",
       "  45.04022630055746,\n",
       "  45.206780115763344,\n",
       "  42.293067932128906,\n",
       "  43.298407236735024,\n",
       "  42.7181666692098,\n",
       "  40.73722950617472,\n",
       "  41.87421258290609,\n",
       "  42.94605207443237,\n",
       "  38.367398262023926,\n",
       "  37.95941321055094,\n",
       "  39.97140876452128,\n",
       "  39.978199323018394,\n",
       "  39.01988013585409,\n",
       "  40.26947601636251,\n",
       "  41.622082471847534,\n",
       "  41.13294712702433,\n",
       "  39.11203654607137,\n",
       "  35.333151499430336,\n",
       "  36.05694588025411,\n",
       "  37.495836893717446,\n",
       "  36.28750809033712,\n",
       "  36.57054980595907,\n",
       "  35.49892671902975,\n",
       "  35.528158028920494,\n",
       "  37.39146820704142,\n",
       "  37.9907914797465,\n",
       "  36.99765412012736,\n",
       "  35.232038815816246,\n",
       "  38.94888289769491,\n",
       "  36.177913665771484,\n",
       "  34.811867475509644,\n",
       "  31.36833381652832,\n",
       "  32.952977339426674,\n",
       "  32.6326847076416,\n",
       "  30.464536507924397,\n",
       "  36.16533954938253,\n",
       "  35.07585096359253,\n",
       "  32.13889137903849,\n",
       "  31.927217801411945,\n",
       "  31.367289861043293,\n",
       "  32.45343430836996,\n",
       "  32.131175676981606,\n",
       "  30.88503090540568,\n",
       "  28.778660376866657,\n",
       "  30.457448959350586,\n",
       "  32.54496876398722,\n",
       "  31.180405775705974,\n",
       "  31.17450936635335,\n",
       "  31.969087203343708,\n",
       "  30.617787679036457,\n",
       "  30.777713457743328,\n",
       "  28.17302417755127,\n",
       "  30.637946446736652,\n",
       "  31.524425824483234,\n",
       "  28.67704216639201,\n",
       "  28.42789634068807,\n",
       "  29.44100348154704,\n",
       "  27.230993350346882,\n",
       "  30.315838019053142,\n",
       "  30.578420559565227,\n",
       "  31.069520473480225,\n",
       "  28.11754020055135,\n",
       "  28.095211346944172,\n",
       "  29.761864980061848,\n",
       "  29.259974002838135,\n",
       "  32.89888874689738,\n",
       "  29.748214721679688,\n",
       "  27.152954578399658,\n",
       "  29.09737745920817,\n",
       "  27.584978659947712,\n",
       "  29.209426720937092,\n",
       "  28.46456281344096,\n",
       "  32.39258122444153,\n",
       "  28.56992816925049,\n",
       "  27.54439687728882,\n",
       "  28.927308162053425,\n",
       "  26.09176190694173,\n",
       "  25.634674310684204,\n",
       "  24.5784174601237,\n",
       "  25.86012029647827,\n",
       "  25.120045344034832,\n",
       "  24.94293777147929,\n",
       "  24.704588492711384,\n",
       "  24.139521598815918,\n",
       "  25.59583894411723,\n",
       "  24.87071617444356,\n",
       "  24.194117307662964,\n",
       "  26.557693481445312,\n",
       "  25.42429804801941,\n",
       "  24.632968107859295,\n",
       "  26.402517318725586,\n",
       "  26.089844544728596,\n",
       "  24.801480929056805,\n",
       "  29.5030620098114,\n",
       "  27.18442900975545,\n",
       "  25.230738798777264,\n",
       "  25.941318194071453,\n",
       "  23.727726300557453,\n",
       "  24.052005370457966,\n",
       "  24.85117705663045,\n",
       "  23.639167308807373,\n",
       "  24.471811771392822,\n",
       "  24.38067118326823,\n",
       "  25.53796140352885,\n",
       "  23.24829371770223,\n",
       "  24.32980140050252,\n",
       "  24.035670121510822,\n",
       "  21.90801127751668,\n",
       "  24.321104844411213,\n",
       "  22.99733837445577,\n",
       "  23.346441507339478,\n",
       "  22.767335017522175,\n",
       "  22.86256496111552,\n",
       "  23.066095034281414,\n",
       "  22.296584765116375,\n",
       "  22.285614172617596,\n",
       "  21.19961682955424,\n",
       "  23.55325921376546,\n",
       "  23.692142168680828,\n",
       "  22.235216061274212,\n",
       "  22.377204100290935,\n",
       "  22.22866408030192,\n",
       "  22.06107449531555,\n",
       "  21.85852559407552,\n",
       "  22.122539520263672,\n",
       "  21.848701159159344,\n",
       "  22.204595883687336,\n",
       "  22.814568360646565,\n",
       "  19.99122206370036,\n",
       "  22.82246494293213,\n",
       "  21.989468415578205,\n",
       "  22.40476695696513,\n",
       "  24.14637565612793,\n",
       "  23.191995580991108,\n",
       "  21.04982288678487,\n",
       "  20.93033242225647,\n",
       "  22.54999589920044,\n",
       "  20.82909385363261,\n",
       "  21.165021896362305,\n",
       "  23.314250628153484,\n",
       "  22.32904251416524,\n",
       "  21.121246258417766,\n",
       "  21.242837111155193,\n",
       "  22.28273868560791,\n",
       "  20.169307947158813,\n",
       "  19.49980692068736,\n",
       "  20.47771755854289,\n",
       "  21.414162635803223,\n",
       "  20.249008973439533,\n",
       "  20.33611520131429,\n",
       "  20.477355162302654,\n",
       "  20.3415109316508,\n",
       "  19.868263880411785,\n",
       "  21.755180915196735,\n",
       "  21.49452344576518,\n",
       "  23.0468746026357,\n",
       "  19.87373463312785,\n",
       "  20.70429317156474,\n",
       "  19.05958565076192,\n",
       "  20.841336091359455,\n",
       "  19.957804044087727,\n",
       "  20.834824562072754,\n",
       "  22.072609186172485,\n",
       "  23.636682271957397,\n",
       "  22.64709981282552,\n",
       "  19.417852481206257,\n",
       "  20.880928834279377,\n",
       "  19.155214071273804,\n",
       "  20.649107933044434,\n",
       "  19.470831553141277,\n",
       "  20.539262056350708,\n",
       "  17.551924069722492,\n",
       "  19.091302633285522,\n",
       "  20.428796370824177,\n",
       "  19.730745315551758,\n",
       "  18.079875469207764,\n",
       "  19.660415331522625,\n",
       "  20.893286387125652,\n",
       "  17.586324612299602,\n",
       "  18.33462659517924,\n",
       "  18.31932799021403,\n",
       "  18.846506039301556,\n",
       "  19.127437432607014,\n",
       "  19.66191228230794,\n",
       "  20.17751344045003,\n",
       "  18.815054019292194],\n",
       " 'val_loss': [151.73642539978027,\n",
       "  81.04937744140625,\n",
       "  88.01851081848145,\n",
       "  77.14800834655762,\n",
       "  77.14596366882324,\n",
       "  69.93521118164062,\n",
       "  75.24223804473877,\n",
       "  71.3034439086914,\n",
       "  70.39750671386719,\n",
       "  69.89128065109253,\n",
       "  66.47381782531738,\n",
       "  69.24795246124268,\n",
       "  62.020010471343994,\n",
       "  63.150243282318115,\n",
       "  59.62559175491333,\n",
       "  58.14460372924805,\n",
       "  61.47002983093262,\n",
       "  59.17904853820801,\n",
       "  57.25471115112305,\n",
       "  57.00184631347656,\n",
       "  64.16478490829468,\n",
       "  57.60904836654663,\n",
       "  51.57286739349365,\n",
       "  52.35874652862549,\n",
       "  54.52347993850708,\n",
       "  56.08609485626221,\n",
       "  58.65553092956543,\n",
       "  60.48726511001587,\n",
       "  50.622836112976074,\n",
       "  50.81159210205078,\n",
       "  49.027663230895996,\n",
       "  50.46921157836914,\n",
       "  49.68110275268555,\n",
       "  48.16878700256348,\n",
       "  48.64646244049072,\n",
       "  49.906835079193115,\n",
       "  49.03521728515625,\n",
       "  45.07792043685913,\n",
       "  48.627707958221436,\n",
       "  46.43245506286621,\n",
       "  44.633588790893555,\n",
       "  45.84303951263428,\n",
       "  48.67421531677246,\n",
       "  45.165663719177246,\n",
       "  43.09549522399902,\n",
       "  42.430864334106445,\n",
       "  46.91767072677612,\n",
       "  48.31717014312744,\n",
       "  48.48082637786865,\n",
       "  50.45646810531616,\n",
       "  45.110591888427734,\n",
       "  41.72673749923706,\n",
       "  42.11948251724243,\n",
       "  40.922958850860596,\n",
       "  42.22823619842529,\n",
       "  40.750394344329834,\n",
       "  41.43949222564697,\n",
       "  41.40062141418457,\n",
       "  41.651644706726074,\n",
       "  43.103461265563965,\n",
       "  50.60398578643799,\n",
       "  42.55604791641235,\n",
       "  41.11400508880615,\n",
       "  39.46574068069458,\n",
       "  43.98037099838257,\n",
       "  40.039748191833496,\n",
       "  42.87963104248047,\n",
       "  44.49705696105957,\n",
       "  47.467379093170166,\n",
       "  39.440218448638916,\n",
       "  40.05003643035889,\n",
       "  38.38849973678589,\n",
       "  39.515642166137695,\n",
       "  40.00014305114746,\n",
       "  39.953389167785645,\n",
       "  37.968364238739014,\n",
       "  39.91799831390381,\n",
       "  39.8069224357605,\n",
       "  42.183542251586914,\n",
       "  46.057504653930664,\n",
       "  43.78209209442139,\n",
       "  42.700846672058105,\n",
       "  44.792386054992676,\n",
       "  42.13335418701172,\n",
       "  43.50686454772949,\n",
       "  56.03443717956543,\n",
       "  43.01857328414917,\n",
       "  44.01909112930298,\n",
       "  42.65323495864868,\n",
       "  40.24651050567627,\n",
       "  38.607879638671875,\n",
       "  39.63583564758301,\n",
       "  39.428887367248535,\n",
       "  40.12068700790405,\n",
       "  39.245360374450684,\n",
       "  39.999608516693115,\n",
       "  43.18957042694092,\n",
       "  37.321547985076904,\n",
       "  38.200764179229736,\n",
       "  38.59881925582886,\n",
       "  45.606082916259766,\n",
       "  40.831045150756836,\n",
       "  45.180203437805176,\n",
       "  39.78057527542114,\n",
       "  39.10130023956299,\n",
       "  41.400994300842285,\n",
       "  44.32746410369873,\n",
       "  39.48054504394531,\n",
       "  41.51159858703613,\n",
       "  40.41993045806885,\n",
       "  38.6301908493042,\n",
       "  40.69192552566528,\n",
       "  39.84025859832764,\n",
       "  39.6175594329834,\n",
       "  40.131075859069824,\n",
       "  44.95290470123291,\n",
       "  42.19931125640869,\n",
       "  40.262908935546875,\n",
       "  40.03971338272095,\n",
       "  39.67388343811035,\n",
       "  39.95374822616577,\n",
       "  40.26883316040039,\n",
       "  40.287227630615234,\n",
       "  40.379650592803955,\n",
       "  40.61161518096924,\n",
       "  39.596774101257324,\n",
       "  40.75742816925049,\n",
       "  39.94458055496216,\n",
       "  37.375577449798584,\n",
       "  37.64425611495972,\n",
       "  38.738813400268555,\n",
       "  43.14222478866577,\n",
       "  40.71168851852417,\n",
       "  40.001237869262695,\n",
       "  40.741780281066895,\n",
       "  40.5413179397583,\n",
       "  39.532883167266846,\n",
       "  40.30580520629883,\n",
       "  42.74271583557129,\n",
       "  39.93143320083618,\n",
       "  40.71809387207031,\n",
       "  41.000502586364746,\n",
       "  38.607905864715576,\n",
       "  40.713740825653076,\n",
       "  40.89342164993286,\n",
       "  41.021852016448975,\n",
       "  42.07633972167969,\n",
       "  39.49053621292114,\n",
       "  40.044466972351074,\n",
       "  39.53499889373779,\n",
       "  41.76499271392822,\n",
       "  42.87870121002197,\n",
       "  47.104371070861816,\n",
       "  45.30440044403076,\n",
       "  42.402174949645996,\n",
       "  39.84785032272339,\n",
       "  39.363365173339844,\n",
       "  40.00509834289551,\n",
       "  40.89904832839966,\n",
       "  40.81729555130005,\n",
       "  44.925211906433105,\n",
       "  39.38312387466431,\n",
       "  40.83116436004639,\n",
       "  41.10737466812134,\n",
       "  40.50293445587158,\n",
       "  42.97984504699707,\n",
       "  40.71157455444336,\n",
       "  39.26721477508545,\n",
       "  55.57595157623291,\n",
       "  44.999441146850586,\n",
       "  41.21539258956909,\n",
       "  39.50403070449829,\n",
       "  49.70139026641846,\n",
       "  43.22602033615112,\n",
       "  39.98479700088501,\n",
       "  44.358057498931885,\n",
       "  47.00662183761597,\n",
       "  40.01500225067139,\n",
       "  44.213382720947266,\n",
       "  41.278541564941406,\n",
       "  44.27665853500366,\n",
       "  49.77575397491455,\n",
       "  41.42954874038696,\n",
       "  41.5851731300354,\n",
       "  38.7563362121582,\n",
       "  40.39726209640503,\n",
       "  41.62328863143921,\n",
       "  40.4150390625,\n",
       "  42.80991172790527,\n",
       "  46.64171552658081,\n",
       "  43.01792335510254,\n",
       "  42.25781536102295,\n",
       "  45.03595304489136,\n",
       "  41.34151077270508,\n",
       "  42.703250885009766,\n",
       "  42.780659675598145,\n",
       "  43.237120151519775,\n",
       "  43.16045904159546,\n",
       "  39.60900688171387,\n",
       "  43.66535711288452]}"
      ]
     },
     "execution_count": 107,
     "metadata": {},
     "output_type": "execute_result"
    }
   ],
   "source": [
    "history.history"
   ]
  },
  {
   "cell_type": "code",
   "execution_count": 109,
   "metadata": {
    "collapsed": true
   },
   "outputs": [
    {
     "data": {
      "text/plain": [
       "[151.73642539978027,\n",
       " 81.04937744140625,\n",
       " 88.01851081848145,\n",
       " 77.14800834655762,\n",
       " 77.14596366882324,\n",
       " 69.93521118164062,\n",
       " 75.24223804473877,\n",
       " 71.3034439086914,\n",
       " 70.39750671386719,\n",
       " 69.89128065109253,\n",
       " 66.47381782531738,\n",
       " 69.24795246124268,\n",
       " 62.020010471343994,\n",
       " 63.150243282318115,\n",
       " 59.62559175491333,\n",
       " 58.14460372924805,\n",
       " 61.47002983093262,\n",
       " 59.17904853820801,\n",
       " 57.25471115112305,\n",
       " 57.00184631347656,\n",
       " 64.16478490829468,\n",
       " 57.60904836654663,\n",
       " 51.57286739349365,\n",
       " 52.35874652862549,\n",
       " 54.52347993850708,\n",
       " 56.08609485626221,\n",
       " 58.65553092956543,\n",
       " 60.48726511001587,\n",
       " 50.622836112976074,\n",
       " 50.81159210205078,\n",
       " 49.027663230895996,\n",
       " 50.46921157836914,\n",
       " 49.68110275268555,\n",
       " 48.16878700256348,\n",
       " 48.64646244049072,\n",
       " 49.906835079193115,\n",
       " 49.03521728515625,\n",
       " 45.07792043685913,\n",
       " 48.627707958221436,\n",
       " 46.43245506286621,\n",
       " 44.633588790893555,\n",
       " 45.84303951263428,\n",
       " 48.67421531677246,\n",
       " 45.165663719177246,\n",
       " 43.09549522399902,\n",
       " 42.430864334106445,\n",
       " 46.91767072677612,\n",
       " 48.31717014312744,\n",
       " 48.48082637786865,\n",
       " 50.45646810531616,\n",
       " 45.110591888427734,\n",
       " 41.72673749923706,\n",
       " 42.11948251724243,\n",
       " 40.922958850860596,\n",
       " 42.22823619842529,\n",
       " 40.750394344329834,\n",
       " 41.43949222564697,\n",
       " 41.40062141418457,\n",
       " 41.651644706726074,\n",
       " 43.103461265563965,\n",
       " 50.60398578643799,\n",
       " 42.55604791641235,\n",
       " 41.11400508880615,\n",
       " 39.46574068069458,\n",
       " 43.98037099838257,\n",
       " 40.039748191833496,\n",
       " 42.87963104248047,\n",
       " 44.49705696105957,\n",
       " 47.467379093170166,\n",
       " 39.440218448638916,\n",
       " 40.05003643035889,\n",
       " 38.38849973678589,\n",
       " 39.515642166137695,\n",
       " 40.00014305114746,\n",
       " 39.953389167785645,\n",
       " 37.968364238739014,\n",
       " 39.91799831390381,\n",
       " 39.8069224357605,\n",
       " 42.183542251586914,\n",
       " 46.057504653930664,\n",
       " 43.78209209442139,\n",
       " 42.700846672058105,\n",
       " 44.792386054992676,\n",
       " 42.13335418701172,\n",
       " 43.50686454772949,\n",
       " 56.03443717956543,\n",
       " 43.01857328414917,\n",
       " 44.01909112930298,\n",
       " 42.65323495864868,\n",
       " 40.24651050567627,\n",
       " 38.607879638671875,\n",
       " 39.63583564758301,\n",
       " 39.428887367248535,\n",
       " 40.12068700790405,\n",
       " 39.245360374450684,\n",
       " 39.999608516693115,\n",
       " 43.18957042694092,\n",
       " 37.321547985076904,\n",
       " 38.200764179229736,\n",
       " 38.59881925582886,\n",
       " 45.606082916259766,\n",
       " 40.831045150756836,\n",
       " 45.180203437805176,\n",
       " 39.78057527542114,\n",
       " 39.10130023956299,\n",
       " 41.400994300842285,\n",
       " 44.32746410369873,\n",
       " 39.48054504394531,\n",
       " 41.51159858703613,\n",
       " 40.41993045806885,\n",
       " 38.6301908493042,\n",
       " 40.69192552566528,\n",
       " 39.84025859832764,\n",
       " 39.6175594329834,\n",
       " 40.131075859069824,\n",
       " 44.95290470123291,\n",
       " 42.19931125640869,\n",
       " 40.262908935546875,\n",
       " 40.03971338272095,\n",
       " 39.67388343811035,\n",
       " 39.95374822616577,\n",
       " 40.26883316040039,\n",
       " 40.287227630615234,\n",
       " 40.379650592803955,\n",
       " 40.61161518096924,\n",
       " 39.596774101257324,\n",
       " 40.75742816925049,\n",
       " 39.94458055496216,\n",
       " 37.375577449798584,\n",
       " 37.64425611495972,\n",
       " 38.738813400268555,\n",
       " 43.14222478866577,\n",
       " 40.71168851852417,\n",
       " 40.001237869262695,\n",
       " 40.741780281066895,\n",
       " 40.5413179397583,\n",
       " 39.532883167266846,\n",
       " 40.30580520629883,\n",
       " 42.74271583557129,\n",
       " 39.93143320083618,\n",
       " 40.71809387207031,\n",
       " 41.000502586364746,\n",
       " 38.607905864715576,\n",
       " 40.713740825653076,\n",
       " 40.89342164993286,\n",
       " 41.021852016448975,\n",
       " 42.07633972167969,\n",
       " 39.49053621292114,\n",
       " 40.044466972351074,\n",
       " 39.53499889373779,\n",
       " 41.76499271392822,\n",
       " 42.87870121002197,\n",
       " 47.104371070861816,\n",
       " 45.30440044403076,\n",
       " 42.402174949645996,\n",
       " 39.84785032272339,\n",
       " 39.363365173339844,\n",
       " 40.00509834289551,\n",
       " 40.89904832839966,\n",
       " 40.81729555130005,\n",
       " 44.925211906433105,\n",
       " 39.38312387466431,\n",
       " 40.83116436004639,\n",
       " 41.10737466812134,\n",
       " 40.50293445587158,\n",
       " 42.97984504699707,\n",
       " 40.71157455444336,\n",
       " 39.26721477508545,\n",
       " 55.57595157623291,\n",
       " 44.999441146850586,\n",
       " 41.21539258956909,\n",
       " 39.50403070449829,\n",
       " 49.70139026641846,\n",
       " 43.22602033615112,\n",
       " 39.98479700088501,\n",
       " 44.358057498931885,\n",
       " 47.00662183761597,\n",
       " 40.01500225067139,\n",
       " 44.213382720947266,\n",
       " 41.278541564941406,\n",
       " 44.27665853500366,\n",
       " 49.77575397491455,\n",
       " 41.42954874038696,\n",
       " 41.5851731300354,\n",
       " 38.7563362121582,\n",
       " 40.39726209640503,\n",
       " 41.62328863143921,\n",
       " 40.4150390625,\n",
       " 42.80991172790527,\n",
       " 46.64171552658081,\n",
       " 43.01792335510254,\n",
       " 42.25781536102295,\n",
       " 45.03595304489136,\n",
       " 41.34151077270508,\n",
       " 42.703250885009766,\n",
       " 42.780659675598145,\n",
       " 43.237120151519775,\n",
       " 43.16045904159546,\n",
       " 39.60900688171387,\n",
       " 43.66535711288452]"
      ]
     },
     "execution_count": 109,
     "metadata": {},
     "output_type": "execute_result"
    }
   ],
   "source": [
    "history.history['val_loss']"
   ]
  },
  {
   "cell_type": "code",
   "execution_count": 16,
   "metadata": {},
   "outputs": [
    {
     "data": {
      "image/png": "[encoded data removed]",
      "text/plain": [
       "<Figure size 720x504 with 1 Axes>"
      ]
     },
     "metadata": {
      "needs_background": "light"
     },
     "output_type": "display_data"
    }
   ],
   "source": [
    "# epoch당 loss와 val_loss  변화에 대해 선그래프 그리기.\n",
    "import matplotlib.pyplot as plt\n",
    "plt.figure(figsize=(10,7))\n",
    "\n",
    "plt.plot(range(1, N_EPOCHS+1), history.history['loss'], label='Train loss')\n",
    "plt.plot(range(1, N_EPOCHS+1), history.history['val_loss'], label='Validation loss')\n",
    "\n",
    "plt.xlabel('Epochs')\n",
    "plt.ylabel('Loss(MSE)')\n",
    "plt.ylim(0, 90)\n",
    "plt.legend()\n",
    "plt.grid(True)\n",
    "plt.show()"
   ]
  },
  {
   "cell_type": "code",
   "execution_count": 17,
   "metadata": {},
   "outputs": [
    {
     "name": "stdout",
     "output_type": "stream",
     "text": [
      "4/4 [==============================] - 0s 2ms/step - loss: 51.7618\n"
     ]
    },
    {
     "data": {
      "text/plain": [
       "51.76176357269287"
      ]
     },
     "execution_count": 17,
     "metadata": {},
     "output_type": "execute_result"
    }
   ],
   "source": [
    "# 평가\n",
    "model.evaluate(val_dataset) "
   ]
  },
  {
   "cell_type": "code",
   "execution_count": null,
   "metadata": {},
   "outputs": [],
   "source": []
  },
  {
   "cell_type": "code",
   "execution_count": null,
   "metadata": {},
   "outputs": [],
   "source": []
  },
  {
   "cell_type": "code",
   "execution_count": null,
   "metadata": {},
   "outputs": [],
   "source": []
  },
  {
   "cell_type": "code",
   "execution_count": null,
   "metadata": {},
   "outputs": [],
   "source": []
  },
  {
   "cell_type": "markdown",
   "metadata": {},
   "source": [
    "## 2. Classification\n",
    "\n",
    "### Fashion MNIST(MNIST) Dataset - 다중분류"
   ]
  },
  {
   "cell_type": "markdown",
   "metadata": {},
   "source": [
    "10개의 범주(category)와 70,000개의 흑백 이미지로 구성된 [패션 MNIST](https://github.com/zalandoresearch/fashion-mnist) 데이터셋. \n",
    "이미지는 해상도(28x28 픽셀)가 낮고 다음처럼 개별 의류 품목을 나타낸다:\n",
    "\n",
    "<table>\n",
    "  <tr><td>\n",
    "    <img src=\"https://tensorflow.org/images/fashion-mnist-sprite.png\"\n",
    "         alt=\"Fashion MNIST sprite\"  width=\"600\">\n",
    "  </td></tr>\n",
    "  <tr><td align=\"center\">\n",
    "    <b>그림</b> <a href=\"https://github.com/zalandoresearch/fashion-mnist\">패션-MNIST 샘플</a> (Zalando, MIT License).<br/>&nbsp;\n",
    "  </td></tr>\n",
    "</table>\n",
    "\n",
    "패션 MNIST와 손글씨 MNIST는  비교적 작기 때문에 알고리즘의 작동 여부를 확인하기 위해 사용되곤 하며 코드를 테스트하고 디버깅하는 용도로 좋다."
   ]
  },
  {
   "cell_type": "markdown",
   "metadata": {},
   "source": [
    "이미지는 28x28 크기의 넘파이 배열이고 픽셀 값은 0과 255 사이이다. *레이블*(label)은 0에서 9까지의 정수 배열이다. 아래 표는 이미지에 있는 의류의 **클래스**(class)를 나낸다.\n",
    "\n",
    "<table>\n",
    "  <tr>\n",
    "    <th>레이블</th>\n",
    "    <th>클래스</th>\n",
    "  </tr>\n",
    "  <tr>\n",
    "    <td>0</td>\n",
    "    <td>T-shirt/top</td>\n",
    "  </tr>\n",
    "  <tr>\n",
    "    <td>1</td>\n",
    "    <td>Trousers</td>\n",
    "  </tr>\n",
    "    <tr>\n",
    "    <td>2</td>\n",
    "    <td>Pullover</td>\n",
    "  </tr>\n",
    "    <tr>\n",
    "    <td>3</td>\n",
    "    <td>Dress</td>\n",
    "  </tr>\n",
    "    <tr>\n",
    "    <td>4</td>\n",
    "    <td>Coat</td>\n",
    "  </tr>\n",
    "    <tr>\n",
    "    <td>5</td>\n",
    "    <td>Sandal</td>\n",
    "  </tr>\n",
    "    <tr>\n",
    "    <td>6</td>\n",
    "    <td>Shirt</td>\n",
    "  </tr>\n",
    "    <tr>\n",
    "    <td>7</td>\n",
    "    <td>Sneaker</td>\n",
    "  </tr>\n",
    "    <tr>\n",
    "    <td>8</td>\n",
    "    <td>Bag</td>\n",
    "  </tr>\n",
    "    <tr>\n",
    "    <td>9</td>\n",
    "    <td>Ankle boot</td>\n",
    "  </tr>\n",
    "</table>\n",
    "\n",
    "각 이미지는 하나의 레이블에 매핑되어 있다. 데이터셋에 클래스 이름이 들어있지 않기 때문에 나중에 이미지를 출력할 때 사용하기 위해 별도의 변수를 만들어 저장한다."
   ]
  },
  {
   "cell_type": "code",
   "execution_count": 18,
   "metadata": {},
   "outputs": [],
   "source": [
    "class_names = ['T-shirt/top', 'Trousers', 'Pullover', 'Dress', 'Coat', 'Sandal', 'Shirt', 'Sneaker', 'Bag', 'Ankle boot']"
   ]
  },
  {
   "cell_type": "code",
   "execution_count": 20,
   "metadata": {},
   "outputs": [],
   "source": [
    "import numpy as np\n",
    "import tensorflow as tf\n",
    "from tensorflow import keras\n",
    "\n",
    "np.random.seed(1)\n",
    "tf.random.set_seed(1)"
   ]
  },
  {
   "cell_type": "code",
   "execution_count": 21,
   "metadata": {},
   "outputs": [
    {
     "name": "stdout",
     "output_type": "stream",
     "text": [
      "Downloading data from https://storage.googleapis.com/tensorflow/tf-keras-datasets/train-labels-idx1-ubyte.gz\n",
      "32768/29515 [=================================] - 0s 0us/step\n",
      "Downloading data from https://storage.googleapis.com/tensorflow/tf-keras-datasets/train-images-idx3-ubyte.gz\n",
      "26427392/26421880 [==============================] - 5s 0us/step\n",
      "Downloading data from https://storage.googleapis.com/tensorflow/tf-keras-datasets/t10k-labels-idx1-ubyte.gz\n",
      "8192/5148 [===============================================] - 0s 0us/step\n",
      "Downloading data from https://storage.googleapis.com/tensorflow/tf-keras-datasets/t10k-images-idx3-ubyte.gz\n",
      "4423680/4422102 [==============================] - 0s 0us/step\n"
     ]
    }
   ],
   "source": [
    "# 데이터셋 읽기\n",
    "(X_train, y_train), (X_test, y_test) = keras.datasets.fashion_mnist.load_data()"
   ]
  },
  {
   "cell_type": "code",
   "execution_count": 22,
   "metadata": {},
   "outputs": [
    {
     "data": {
      "text/plain": [
       "((60000, 28, 28), (60000,), (10000, 28, 28), (10000,))"
      ]
     },
     "execution_count": 22,
     "metadata": {},
     "output_type": "execute_result"
    }
   ],
   "source": [
    "X_train.shape, y_train.shape, X_test.shape, y_test.shape"
   ]
  },
  {
   "cell_type": "code",
   "execution_count": 23,
   "metadata": {},
   "outputs": [
    {
     "data": {
      "text/plain": [
       "(array([0, 1, 2, 3, 4, 5, 6, 7, 8, 9], dtype=uint8),\n",
       " array([6000, 6000, 6000, 6000, 6000, 6000, 6000, 6000, 6000, 6000],\n",
       "       dtype=int64))"
      ]
     },
     "execution_count": 23,
     "metadata": {},
     "output_type": "execute_result"
    }
   ],
   "source": [
    "np.unique(y_train, return_counts=True)"
   ]
  },
  {
   "cell_type": "code",
   "execution_count": 24,
   "metadata": {},
   "outputs": [
    {
     "data": {
      "text/plain": [
       "(array([0, 1, 2, 3, 4, 5, 6, 7, 8, 9], dtype=uint8),\n",
       " array([1000, 1000, 1000, 1000, 1000, 1000, 1000, 1000, 1000, 1000],\n",
       "       dtype=int64))"
      ]
     },
     "execution_count": 24,
     "metadata": {},
     "output_type": "execute_result"
    }
   ],
   "source": [
    "np.unique(y_test, return_counts=True)"
   ]
  },
  {
   "cell_type": "code",
   "execution_count": 32,
   "metadata": {},
   "outputs": [
    {
     "data": {
      "image/png": "[encoded data removed]",
      "text/plain": [
       "<Figure size 1080x1080 with 25 Axes>"
      ]
     },
     "metadata": {
      "needs_background": "light"
     },
     "output_type": "display_data"
    }
   ],
   "source": [
    "# 이미지 확인\n",
    "import matplotlib.pyplot as plt\n",
    "plt.figure(figsize=(15,15))\n",
    "for i in range(25):\n",
    "    plt.subplot(5,5,i+1)\n",
    "    plt.imshow(X_train[i], cmap='gray')\n",
    "    plt.title(class_names[y_train[i]])\n",
    "    \n",
    "plt.tight_layout()\n",
    "plt.show()"
   ]
  },
  {
   "cell_type": "code",
   "execution_count": 39,
   "metadata": {},
   "outputs": [],
   "source": [
    "# 하이퍼파라미터 설정\n",
    "LEARNING_RATE = 0.001\n",
    "N_EPOCHS = 50\n",
    "N_BATCHS = 100\n",
    "\n",
    "N_CLASS = 10 #CLASS CATEGORY의 개수\n",
    "N_TRAIN = X_train.shape[0]\n",
    "N_TEST = X_test.shape[0]\n",
    "IMAGE_SIZE = 28"
   ]
  },
  {
   "cell_type": "code",
   "execution_count": 35,
   "metadata": {},
   "outputs": [],
   "source": [
    "# 데이터 전처리 \n",
    "# X(이미지) : 0 ~ 255 => 0 ~ 1\n",
    "X_train  = X_train/255.\n",
    "X_test = X_test/255.\n",
    "\n",
    "# Y (Label) => 다중분류: OneHotEncoding\n",
    "y_train = keras.utils.to_categorical(y_train)\n",
    "y_test = keras.utils.to_categorical(y_test)"
   ]
  },
  {
   "cell_type": "code",
   "execution_count": 36,
   "metadata": {},
   "outputs": [
    {
     "data": {
      "text/plain": [
       "(1.0, 0.0)"
      ]
     },
     "execution_count": 36,
     "metadata": {},
     "output_type": "execute_result"
    }
   ],
   "source": [
    "np.max(X_train), np.min(X_train)"
   ]
  },
  {
   "cell_type": "code",
   "execution_count": 37,
   "metadata": {},
   "outputs": [
    {
     "data": {
      "text/plain": [
       "(10000, 10)"
      ]
     },
     "execution_count": 37,
     "metadata": {},
     "output_type": "execute_result"
    }
   ],
   "source": [
    "y_test.shape"
   ]
  },
  {
   "cell_type": "code",
   "execution_count": 38,
   "metadata": {},
   "outputs": [
    {
     "data": {
      "text/plain": [
       "array([[0., 0., 0., 0., 0., 0., 0., 0., 0., 1.],\n",
       "       [0., 0., 1., 0., 0., 0., 0., 0., 0., 0.]], dtype=float32)"
      ]
     },
     "execution_count": 38,
     "metadata": {},
     "output_type": "execute_result"
    }
   ],
   "source": [
    "y_test[:2]"
   ]
  },
  {
   "cell_type": "code",
   "execution_count": 40,
   "metadata": {},
   "outputs": [],
   "source": [
    "# Dataset \n",
    "train_dataset = tf.data.Dataset.from_tensor_slices((X_train, y_train))\\\n",
    "                               .shuffle(N_TRAIN)\\\n",
    "                               .batch(N_BATCHS, drop_remainder=True)\\\n",
    "                               .repeat()"
   ]
  },
  {
   "cell_type": "code",
   "execution_count": 47,
   "metadata": {},
   "outputs": [],
   "source": [
    "val_dataset = tf.data.Dataset.from_tensor_slices((X_test, y_test)).batch(N_BATCHS)"
   ]
  },
  {
   "cell_type": "code",
   "execution_count": null,
   "metadata": {},
   "outputs": [],
   "source": [
    "# from tensorflow.keras.layers import Flatten, Dense, Input\n",
    "\n",
    "# model.add(Input((28,28)))\n",
    "# model.add(Dense(...))"
   ]
  },
  {
   "cell_type": "code",
   "execution_count": 51,
   "metadata": {},
   "outputs": [],
   "source": [
    "# 모델 구현\n",
    "def create_model():\n",
    "    model = keras.Sequential()\n",
    "    #입력층(Input Layer)\n",
    "    model.add(keras.layers.Input((28,28)))\n",
    "    model.add(keras.layers.Flatten())\n",
    "#     model.add(keras.layers.Flatten(input_shape=(28,28)))\n",
    "    #은닉층(Hidden Layer)\n",
    "    model.add(keras.layers.Dense(256, activation='relu'))\n",
    "    model.add(keras.layers.Dense(128, activation='relu'))\n",
    "    model.add(keras.layers.Dense(64, activation='relu'))\n",
    "    \n",
    "    #출력층(Output Layer)\n",
    "    #다중 분류: units-class category 개수, activation-softmax =>각 class 별 확률   \n",
    "    model.add(keras.layers.Dense(N_CLASS, activation='softmax')) \n",
    "    \n",
    "    # 컴파일. 다중분류: loss-categorical_crossentropy (y를 one hot encoding을 한 경우),\n",
    "    #                      sparse_categorical_entropy(y를 one hot encoding 안한 경우)\n",
    "    model.compile(optimizer=keras.optimizers.Adam(learning_rate=LEARNING_RATE), \n",
    "                  loss='categorical_crossentropy', \n",
    "                  metrics=['accuracy'])\n",
    "    \n",
    "    return model"
   ]
  },
  {
   "cell_type": "code",
   "execution_count": 52,
   "metadata": {},
   "outputs": [
    {
     "name": "stdout",
     "output_type": "stream",
     "text": [
      "Model: \"sequential_2\"\n",
      "_________________________________________________________________\n",
      "Layer (type)                 Output Shape              Param #   \n",
      "=================================================================\n",
      "flatten_1 (Flatten)          (None, 784)               0         \n",
      "_________________________________________________________________\n",
      "dense_7 (Dense)              (None, 256)               200960    \n",
      "_________________________________________________________________\n",
      "dense_8 (Dense)              (None, 128)               32896     \n",
      "_________________________________________________________________\n",
      "dense_9 (Dense)              (None, 64)                8256      \n",
      "_________________________________________________________________\n",
      "dense_10 (Dense)             (None, 10)                650       \n",
      "=================================================================\n",
      "Total params: 242,762\n",
      "Trainable params: 242,762\n",
      "Non-trainable params: 0\n",
      "_________________________________________________________________\n"
     ]
    }
   ],
   "source": [
    "model = create_model()\n",
    "model.summary()"
   ]
  },
  {
   "cell_type": "code",
   "execution_count": 54,
   "metadata": {},
   "outputs": [
    {
     "data": {
      "image/png": "[encoded data removed]",
      "text/plain": [
       "<IPython.core.display.Image object>"
      ]
     },
     "execution_count": 54,
     "metadata": {},
     "output_type": "execute_result"
    }
   ],
   "source": [
    "from tensorflow.keras.utils import plot_model\n",
    "plot_model(model, to_file='fashin_mnist_model.png', show_shapes=True)"
   ]
  },
  {
   "cell_type": "code",
   "execution_count": 55,
   "metadata": {},
   "outputs": [
    {
     "name": "stdout",
     "output_type": "stream",
     "text": [
      "600 100\n"
     ]
    }
   ],
   "source": [
    "# 학습\n",
    "## 에폭당 step 수 계산\n",
    "steps_per_epoch = N_TRAIN // N_BATCHS\n",
    "validation_steps = int(np.ceil(N_TEST / N_BATCHS))\n",
    "print(steps_per_epoch, validation_steps)"
   ]
  },
  {
   "cell_type": "code",
   "execution_count": 66,
   "metadata": {},
   "outputs": [
    {
     "data": {
      "text/plain": [
       "705.8823529411765"
      ]
     },
     "execution_count": 66,
     "metadata": {},
     "output_type": "execute_result"
    }
   ],
   "source": [
    "60000/85"
   ]
  },
  {
   "cell_type": "code",
   "execution_count": 56,
   "metadata": {
    "collapsed": true
   },
   "outputs": [
    {
     "name": "stdout",
     "output_type": "stream",
     "text": [
      "Train for 600 steps, validate for 100 steps\n",
      "Epoch 1/50\n",
      "600/600 [==============================] - 7s 12ms/step - loss: 0.5087 - accuracy: 0.8203 - val_loss: 0.4186 - val_accuracy: 0.8469\n",
      "Epoch 2/50\n",
      "600/600 [==============================] - 7s 11ms/step - loss: 0.3657 - accuracy: 0.8672 - val_loss: 0.4053 - val_accuracy: 0.8528\n",
      "Epoch 3/50\n",
      "600/600 [==============================] - 7s 12ms/step - loss: 0.3306 - accuracy: 0.8795 - val_loss: 0.3651 - val_accuracy: 0.8687\n",
      "Epoch 4/50\n",
      "600/600 [==============================] - 7s 12ms/step - loss: 0.3064 - accuracy: 0.8870 - val_loss: 0.3492 - val_accuracy: 0.8744\n",
      "Epoch 5/50\n",
      "600/600 [==============================] - 7s 12ms/step - loss: 0.2872 - accuracy: 0.8926 - val_loss: 0.3583 - val_accuracy: 0.8720\n",
      "Epoch 6/50\n",
      "600/600 [==============================] - 8s 13ms/step - loss: 0.2738 - accuracy: 0.8974 - val_loss: 0.3434 - val_accuracy: 0.8782\n",
      "Epoch 7/50\n",
      "600/600 [==============================] - 8s 13ms/step - loss: 0.2589 - accuracy: 0.9039 - val_loss: 0.3555 - val_accuracy: 0.8714\n",
      "Epoch 8/50\n",
      "600/600 [==============================] - 8s 13ms/step - loss: 0.2540 - accuracy: 0.9052 - val_loss: 0.3313 - val_accuracy: 0.8818\n",
      "Epoch 9/50\n",
      "600/600 [==============================] - 6s 10ms/step - loss: 0.2380 - accuracy: 0.9099 - val_loss: 0.3436 - val_accuracy: 0.8793\n",
      "Epoch 10/50\n",
      "600/600 [==============================] - 6s 10ms/step - loss: 0.2320 - accuracy: 0.9133 - val_loss: 0.3196 - val_accuracy: 0.8879\n",
      "Epoch 11/50\n",
      "600/600 [==============================] - 6s 10ms/step - loss: 0.2224 - accuracy: 0.9154 - val_loss: 0.3409 - val_accuracy: 0.8806\n",
      "Epoch 12/50\n",
      "600/600 [==============================] - 6s 11ms/step - loss: 0.2158 - accuracy: 0.9187 - val_loss: 0.3352 - val_accuracy: 0.8868\n",
      "Epoch 13/50\n",
      "600/600 [==============================] - 9s 14ms/step - loss: 0.2034 - accuracy: 0.9225 - val_loss: 0.3429 - val_accuracy: 0.8827\n",
      "Epoch 14/50\n",
      "600/600 [==============================] - 6s 9ms/step - loss: 0.1974 - accuracy: 0.9243 - val_loss: 0.3649 - val_accuracy: 0.8821\n",
      "Epoch 15/50\n",
      "600/600 [==============================] - 6s 10ms/step - loss: 0.1933 - accuracy: 0.9263 - val_loss: 0.3486 - val_accuracy: 0.8874\n",
      "Epoch 16/50\n",
      "600/600 [==============================] - 5s 8ms/step - loss: 0.1840 - accuracy: 0.9287 - val_loss: 0.3503 - val_accuracy: 0.8929\n",
      "Epoch 17/50\n",
      "600/600 [==============================] - 4s 7ms/step - loss: 0.1795 - accuracy: 0.9324 - val_loss: 0.3847 - val_accuracy: 0.8827\n",
      "Epoch 18/50\n",
      "600/600 [==============================] - 5s 8ms/step - loss: 0.1700 - accuracy: 0.9349 - val_loss: 0.3735 - val_accuracy: 0.8829\n",
      "Epoch 19/50\n",
      "600/600 [==============================] - 5s 8ms/step - loss: 0.1700 - accuracy: 0.9359 - val_loss: 0.3543 - val_accuracy: 0.8890\n",
      "Epoch 20/50\n",
      "600/600 [==============================] - 5s 9ms/step - loss: 0.1626 - accuracy: 0.9372 - val_loss: 0.3800 - val_accuracy: 0.8912\n",
      "Epoch 21/50\n",
      "600/600 [==============================] - 6s 10ms/step - loss: 0.1564 - accuracy: 0.9408 - val_loss: 0.3865 - val_accuracy: 0.8789\n",
      "Epoch 22/50\n",
      "600/600 [==============================] - 7s 11ms/step - loss: 0.1549 - accuracy: 0.9410 - val_loss: 0.3709 - val_accuracy: 0.8932\n",
      "Epoch 23/50\n",
      "600/600 [==============================] - 7s 11ms/step - loss: 0.1461 - accuracy: 0.9441 - val_loss: 0.3992 - val_accuracy: 0.8904\n",
      "Epoch 24/50\n",
      "600/600 [==============================] - 7s 11ms/step - loss: 0.1406 - accuracy: 0.9458 - val_loss: 0.3874 - val_accuracy: 0.8907\n",
      "Epoch 25/50\n",
      "600/600 [==============================] - 7s 11ms/step - loss: 0.1418 - accuracy: 0.9456 - val_loss: 0.3792 - val_accuracy: 0.8926\n",
      "Epoch 26/50\n",
      "600/600 [==============================] - 7s 11ms/step - loss: 0.1358 - accuracy: 0.9481 - val_loss: 0.3943 - val_accuracy: 0.8938\n",
      "Epoch 27/50\n",
      "600/600 [==============================] - 7s 11ms/step - loss: 0.1314 - accuracy: 0.9485 - val_loss: 0.3994 - val_accuracy: 0.8945\n",
      "Epoch 28/50\n",
      "600/600 [==============================] - 7s 11ms/step - loss: 0.1278 - accuracy: 0.9511 - val_loss: 0.4231 - val_accuracy: 0.8928\n",
      "Epoch 29/50\n",
      "600/600 [==============================] - 6s 11ms/step - loss: 0.1257 - accuracy: 0.9513 - val_loss: 0.4212 - val_accuracy: 0.8887\n",
      "Epoch 30/50\n",
      "600/600 [==============================] - 7s 11ms/step - loss: 0.1191 - accuracy: 0.9544 - val_loss: 0.4191 - val_accuracy: 0.8934\n",
      "Epoch 31/50\n",
      "600/600 [==============================] - 6s 10ms/step - loss: 0.1172 - accuracy: 0.9554 - val_loss: 0.4507 - val_accuracy: 0.8945\n",
      "Epoch 32/50\n",
      "600/600 [==============================] - 6s 10ms/step - loss: 0.1133 - accuracy: 0.9561 - val_loss: 0.4524 - val_accuracy: 0.8922\n",
      "Epoch 33/50\n",
      "600/600 [==============================] - 6s 10ms/step - loss: 0.1130 - accuracy: 0.9556 - val_loss: 0.4453 - val_accuracy: 0.8885\n",
      "Epoch 34/50\n",
      "600/600 [==============================] - 6s 11ms/step - loss: 0.1071 - accuracy: 0.9590 - val_loss: 0.4838 - val_accuracy: 0.8878\n",
      "Epoch 35/50\n",
      "600/600 [==============================] - 6s 10ms/step - loss: 0.1088 - accuracy: 0.9583 - val_loss: 0.4663 - val_accuracy: 0.8910\n",
      "Epoch 36/50\n",
      "600/600 [==============================] - 6s 10ms/step - loss: 0.0989 - accuracy: 0.9622 - val_loss: 0.4852 - val_accuracy: 0.8891\n",
      "Epoch 37/50\n",
      "600/600 [==============================] - 6s 10ms/step - loss: 0.1014 - accuracy: 0.9609 - val_loss: 0.4468 - val_accuracy: 0.8935\n",
      "Epoch 38/50\n",
      "600/600 [==============================] - 6s 11ms/step - loss: 0.0969 - accuracy: 0.9617 - val_loss: 0.4751 - val_accuracy: 0.8931\n",
      "Epoch 39/50\n",
      "600/600 [==============================] - 7s 11ms/step - loss: 0.0949 - accuracy: 0.9636 - val_loss: 0.4790 - val_accuracy: 0.8922\n",
      "Epoch 40/50\n",
      "600/600 [==============================] - 7s 11ms/step - loss: 0.0930 - accuracy: 0.9638 - val_loss: 0.5091 - val_accuracy: 0.8892\n",
      "Epoch 41/50\n",
      "600/600 [==============================] - 7s 11ms/step - loss: 0.0949 - accuracy: 0.9638 - val_loss: 0.5420 - val_accuracy: 0.8870\n",
      "Epoch 42/50\n",
      "600/600 [==============================] - 7s 11ms/step - loss: 0.0885 - accuracy: 0.9660 - val_loss: 0.5681 - val_accuracy: 0.8928\n",
      "Epoch 43/50\n",
      "600/600 [==============================] - 7s 12ms/step - loss: 0.0845 - accuracy: 0.9675 - val_loss: 0.5082 - val_accuracy: 0.8926\n",
      "Epoch 44/50\n",
      "600/600 [==============================] - 7s 12ms/step - loss: 0.0821 - accuracy: 0.9682 - val_loss: 0.5263 - val_accuracy: 0.8929\n",
      "Epoch 45/50\n",
      "600/600 [==============================] - 7s 12ms/step - loss: 0.0795 - accuracy: 0.9696 - val_loss: 0.5348 - val_accuracy: 0.8932\n",
      "Epoch 46/50\n",
      "600/600 [==============================] - 7s 11ms/step - loss: 0.0854 - accuracy: 0.9671 - val_loss: 0.5199 - val_accuracy: 0.8895\n",
      "Epoch 47/50\n",
      "600/600 [==============================] - 7s 12ms/step - loss: 0.0772 - accuracy: 0.9709 - val_loss: 0.5789 - val_accuracy: 0.8900\n",
      "Epoch 48/50\n",
      "600/600 [==============================] - 7s 12ms/step - loss: 0.0797 - accuracy: 0.9693 - val_loss: 0.5427 - val_accuracy: 0.8953\n",
      "Epoch 49/50\n",
      "600/600 [==============================] - 7s 12ms/step - loss: 0.0749 - accuracy: 0.9711 - val_loss: 0.5939 - val_accuracy: 0.8947\n",
      "Epoch 50/50\n",
      "600/600 [==============================] - 9s 16ms/step - loss: 0.0692 - accuracy: 0.9734 - val_loss: 0.5524 - val_accuracy: 0.8928\n"
     ]
    }
   ],
   "source": [
    "## 학습\n",
    "history = model.fit(train_dataset, \n",
    "                    epochs=N_EPOCHS, \n",
    "                    steps_per_epoch=steps_per_epoch,\n",
    "                    validation_data=val_dataset, \n",
    "                    validation_steps=validation_steps)"
   ]
  },
  {
   "cell_type": "code",
   "execution_count": 57,
   "metadata": {},
   "outputs": [
    {
     "name": "stdout",
     "output_type": "stream",
     "text": [
      "100/100 [==============================] - 0s 5ms/step - loss: 0.5524 - accuracy: 0.8928\n"
     ]
    },
    {
     "data": {
      "text/plain": [
       "[0.5524337460100651, 0.8928]"
      ]
     },
     "execution_count": 57,
     "metadata": {},
     "output_type": "execute_result"
    }
   ],
   "source": [
    "# 평가 - test set (마지막에 한번)\n",
    "model.evaluate(val_dataset)"
   ]
  },
  {
   "cell_type": "code",
   "execution_count": null,
   "metadata": {},
   "outputs": [],
   "source": [
    "# 결과 시각화 (loss와 지정한 평가지표의 epoch당 변화를 시각화.)=>선그래프"
   ]
  },
  {
   "cell_type": "code",
   "execution_count": 58,
   "metadata": {},
   "outputs": [
    {
     "data": {
      "text/plain": [
       "dict_keys(['loss', 'accuracy', 'val_loss', 'val_accuracy'])"
      ]
     },
     "execution_count": 58,
     "metadata": {},
     "output_type": "execute_result"
    }
   ],
   "source": [
    "history.history.keys()"
   ]
  },
  {
   "cell_type": "code",
   "execution_count": 64,
   "metadata": {},
   "outputs": [
    {
     "data": {
      "image/png": "[encoded data removed]",
      "text/plain": [
       "<Figure size 1080x360 with 2 Axes>"
      ]
     },
     "metadata": {
      "needs_background": "light"
     },
     "output_type": "display_data"
    }
   ],
   "source": [
    "plt.figure(figsize=(15,5))\n",
    "plt.subplot(1,2,1)\n",
    "\n",
    "plt.plot(range(1,N_EPOCHS+1), history.history['loss'], label='train loss')\n",
    "plt.plot(range(1,N_EPOCHS+1), history.history['val_loss'], label='validation loss')\n",
    "plt.title('LOSS')\n",
    "plt.legend()\n",
    "\n",
    "plt.subplot(1,2,2)\n",
    "plt.plot(range(1, N_EPOCHS+1), history.history['accuracy'], label='train accuracy')\n",
    "plt.plot(range(1, N_EPOCHS+1), history.history['val_accuracy'], label='validation accuracy')\n",
    "plt.title('ACCURACY')\n",
    "plt.legend()\n",
    "\n",
    "plt.tight_layout()\n",
    "plt.show()"
   ]
  },
  {
   "cell_type": "code",
   "execution_count": null,
   "metadata": {},
   "outputs": [],
   "source": []
  },
  {
   "cell_type": "markdown",
   "metadata": {},
   "source": [
    "## IMDB 감성분성\n",
    "### 이진분류(Binary Classification)\n",
    "- 영화 댓글 - 부정(0)/긍정(1)"
   ]
  },
  {
   "cell_type": "code",
   "execution_count": 2,
   "metadata": {},
   "outputs": [],
   "source": [
    "import pickle \n",
    "import os\n",
    "# os.path.isfile('imdb_dataset/x_train.pkl')\n",
    "# 데이터 로드\n",
    "with open('imdb_dataset/x_train.pkl', 'rb') as f:\n",
    "    X_train = pickle.load(f)\n",
    "    \n",
    "with open('imdb_dataset/x_test.pkl', 'rb') as f:\n",
    "    X_test = pickle.load(f)\n",
    "    \n",
    "with open('imdb_dataset/y_train.pkl', 'rb') as f:\n",
    "    y_train= pickle.load(f)\n",
    "    \n",
    "with open('imdb_dataset/y_test.pkl', 'rb') as f:\n",
    "    y_test = pickle.load(f)\n",
    "    "
   ]
  },
  {
   "cell_type": "code",
   "execution_count": 3,
   "metadata": {},
   "outputs": [
    {
     "data": {
      "text/plain": [
       "'day lead think even think boy young men commit mutual suicide slaughter classmate capture bizarre mode human decide withdraw common civility order define mutual world couple destruction perfect movie give money time filmmaker actor remarkable product term explain motif action young suicide murderer well elephant term film get rationalistic skin far far well film almost anything likely see flaw honest terrible honesty'"
      ]
     },
     "execution_count": 3,
     "metadata": {},
     "output_type": "execute_result"
    }
   ],
   "source": [
    "X_train[0]"
   ]
  },
  {
   "cell_type": "code",
   "execution_count": 4,
   "metadata": {},
   "outputs": [
    {
     "data": {
      "text/plain": [
       "array([1, 0, 1, 0, 0])"
      ]
     },
     "execution_count": 4,
     "metadata": {},
     "output_type": "execute_result"
    }
   ],
   "source": [
    "y_train[:5]"
   ]
  },
  {
   "cell_type": "code",
   "execution_count": 5,
   "metadata": {},
   "outputs": [],
   "source": [
    "# X-> 벡터화(숫자 변경)\n",
    "from sklearn.feature_extraction.text import TfidfVectorizer\n",
    "tfidf = TfidfVectorizer(max_features=10000)\n",
    "tfidf.fit(X_train+X_test)\n",
    "X_train_tfidf = tfidf.transform(X_train)\n",
    "X_test_tfidf = tfidf.transform(X_test)"
   ]
  },
  {
   "cell_type": "code",
   "execution_count": 6,
   "metadata": {},
   "outputs": [
    {
     "data": {
      "text/plain": [
       "((25000, 10000), (25000, 10000))"
      ]
     },
     "execution_count": 6,
     "metadata": {},
     "output_type": "execute_result"
    }
   ],
   "source": [
    "X_train_tfidf.shape, X_test_tfidf.shape"
   ]
  },
  {
   "cell_type": "code",
   "execution_count": 7,
   "metadata": {},
   "outputs": [
    {
     "data": {
      "text/plain": [
       "<25000x88065 sparse matrix of type '<class 'numpy.float64'>'\n",
       "\twith 2238040 stored elements in Compressed Sparse Row format>"
      ]
     },
     "execution_count": 7,
     "metadata": {},
     "output_type": "execute_result"
    }
   ],
   "source": [
    "X_train_tfidf"
   ]
  },
  {
   "cell_type": "code",
   "execution_count": 8,
   "metadata": {},
   "outputs": [
    {
     "data": {
      "text/plain": [
       "(25000,)"
      ]
     },
     "execution_count": 8,
     "metadata": {},
     "output_type": "execute_result"
    }
   ],
   "source": [
    "y_train.shape"
   ]
  },
  {
   "cell_type": "code",
   "execution_count": 7,
   "metadata": {},
   "outputs": [],
   "source": [
    "import tensorflow as tf\n",
    "from tensorflow import keras"
   ]
  },
  {
   "cell_type": "code",
   "execution_count": 8,
   "metadata": {},
   "outputs": [],
   "source": [
    "# 하이퍼파라미터 설정\n",
    "LEARNING_RATE = 0.001\n",
    "N_EPOCHS = 10\n",
    "N_BATCHS = 50\n",
    "\n",
    "N_TRAIN = X_train_tfidf.shape[0]\n",
    "N_TEST = X_test_tfidf.shape[0]\n",
    "N_FEATURE = X_train_tfidf.shape[1]"
   ]
  },
  {
   "cell_type": "code",
   "execution_count": 9,
   "metadata": {},
   "outputs": [],
   "source": [
    "# Dataset 생성 - y: 이진분류 - one hot encoding (X)\n",
    "# Sparse Matrix=>ndarray\n",
    "train_dataset = tf.data.Dataset.from_tensor_slices((X_train_tfidf.toarray(), y_train))\\\n",
    "                              .shuffle(N_TRAIN)\\\n",
    "                              .batch(N_BATCHS, drop_remainder=True)\\\n",
    "                              .repeat()\n",
    "\n",
    "val_dataset = tf.data.Dataset.from_tensor_slices((X_test_tfidf.toarray(), y_test)).batch(N_BATCHS)"
   ]
  },
  {
   "cell_type": "code",
   "execution_count": 10,
   "metadata": {},
   "outputs": [],
   "source": [
    "def create_model():\n",
    "    model = keras.Sequential()\n",
    "    # input layer\n",
    "    model.add(keras.layers.Input((N_FEATURE, )))\n",
    "    # Hidden layer\n",
    "    model.add(keras.layers.Dense(512, activation='relu'))\n",
    "    model.add(keras.layers.Dense(256, activation='relu'))\n",
    "    model.add(keras.layers.Dense(256, activation='relu'))\n",
    "    model.add(keras.layers.Dense(128, activation='relu'))\n",
    "    #Output Layer: 이진분류: units=1, activation='sigmoid' :logistic 함수\n",
    "    model.add(keras.layers.Dense(1, activation='sigmoid'))\n",
    "    \n",
    "    # 컴파일: 이진분류 - activation:sigmoid => loss: binary_crossentropy\n",
    "    model.compile(optimizer=keras.optimizers.Adam(learning_rate=LEARNING_RATE), \n",
    "                  loss='binary_crossentropy',\n",
    "                  metrics=['accuracy'])\n",
    "    \n",
    "    return model"
   ]
  },
  {
   "cell_type": "code",
   "execution_count": 11,
   "metadata": {},
   "outputs": [
    {
     "name": "stdout",
     "output_type": "stream",
     "text": [
      "Model: \"sequential\"\n",
      "_________________________________________________________________\n",
      "Layer (type)                 Output Shape              Param #   \n",
      "=================================================================\n",
      "dense (Dense)                (None, 512)               5120512   \n",
      "_________________________________________________________________\n",
      "dense_1 (Dense)              (None, 256)               131328    \n",
      "_________________________________________________________________\n",
      "dense_2 (Dense)              (None, 256)               65792     \n",
      "_________________________________________________________________\n",
      "dense_3 (Dense)              (None, 128)               32896     \n",
      "_________________________________________________________________\n",
      "dense_4 (Dense)              (None, 1)                 129       \n",
      "=================================================================\n",
      "Total params: 5,350,657\n",
      "Trainable params: 5,350,657\n",
      "Non-trainable params: 0\n",
      "_________________________________________________________________\n"
     ]
    }
   ],
   "source": [
    "model = create_model()\n",
    "model.summary()"
   ]
  },
  {
   "cell_type": "code",
   "execution_count": 16,
   "metadata": {},
   "outputs": [
    {
     "ename": "NameError",
     "evalue": "name 'plot_model' is not defined",
     "output_type": "error",
     "traceback": [
      "\u001b[1;31m---------------------------------------------------------------------------\u001b[0m",
      "\u001b[1;31mNameError\u001b[0m                                 Traceback (most recent call last)",
      "\u001b[1;32m<ipython-input-16-93da5b8388dd>\u001b[0m in \u001b[0;36m<module>\u001b[1;34m\u001b[0m\n\u001b[1;32m----> 1\u001b[1;33m \u001b[0mplot_model\u001b[0m\u001b[1;33m(\u001b[0m\u001b[0mmodel\u001b[0m\u001b[1;33m,\u001b[0m \u001b[0mshow_shapes\u001b[0m\u001b[1;33m=\u001b[0m\u001b[1;32mTrue\u001b[0m\u001b[1;33m)\u001b[0m\u001b[1;33m\u001b[0m\u001b[1;33m\u001b[0m\u001b[0m\n\u001b[0m",
      "\u001b[1;31mNameError\u001b[0m: name 'plot_model' is not defined"
     ]
    }
   ],
   "source": [
    "plot_model(model, show_shapes=True)"
   ]
  },
  {
   "cell_type": "code",
   "execution_count": 12,
   "metadata": {
    "scrolled": true
   },
   "outputs": [
    {
     "data": {
      "text/plain": [
       "(500, 500)"
      ]
     },
     "execution_count": 12,
     "metadata": {},
     "output_type": "execute_result"
    }
   ],
   "source": [
    "# 학습\n",
    "import numpy as np\n",
    "steps_per_epoch = N_TRAIN // N_BATCHS\n",
    "validation_steps = int(np.ceil(N_TEST / N_BATCHS))\n",
    "steps_per_epoch, validation_steps"
   ]
  },
  {
   "cell_type": "code",
   "execution_count": null,
   "metadata": {},
   "outputs": [
    {
     "name": "stdout",
     "output_type": "stream",
     "text": [
      "Train for 500 steps, validate for 500 steps\n",
      "Epoch 1/10\n",
      "306/500 [=================>............] - ETA: 26s - loss: 0.3529 - accuracy: 0.8431"
     ]
    }
   ],
   "source": [
    "history= model.fit(train_dataset, \n",
    "                  epochs=N_EPOCHS,\n",
    "                  steps_per_epoch=steps_per_epoch,\n",
    "                  validation_data=val_dataset,\n",
    "                  validation_steps=validation_steps)"
   ]
  },
  {
   "cell_type": "code",
   "execution_count": null,
   "metadata": {},
   "outputs": [],
   "source": []
  },
  {
   "cell_type": "code",
   "execution_count": null,
   "metadata": {},
   "outputs": [],
   "source": []
  },
  {
   "cell_type": "code",
   "execution_count": null,
   "metadata": {},
   "outputs": [],
   "source": []
  }
 ],
 "metadata": {
  "kernelspec": {
   "display_name": "Python 3",
   "language": "python",
   "name": "python3"
  },
  "language_info": {
   "codemirror_mode": {
    "name": "ipython",
    "version": 3
   },
   "file_extension": ".py",
   "mimetype": "text/x-python",
   "name": "python",
   "nbconvert_exporter": "python",
   "pygments_lexer": "ipython3",
   "version": "3.7.10"
  },
  "toc": {
   "base_numbering": 1,
   "nav_menu": {},
   "number_sections": false,
   "sideBar": true,
   "skip_h1_title": false,
   "title_cell": "Table of Contents",
   "title_sidebar": "Contents",
   "toc_cell": false,
   "toc_position": {},
   "toc_section_display": true,
   "toc_window_display": false
  },
  "varInspector": {
   "cols": {
    "lenName": 16,
    "lenType": 16,
    "lenVar": 40
   },
   "kernels_config": {
    "python": {
     "delete_cmd_postfix": "",
     "delete_cmd_prefix": "del ",
     "library": "var_list.py",
     "varRefreshCmd": "print(var_dic_list())"
    },
    "r": {
     "delete_cmd_postfix": ") ",
     "delete_cmd_prefix": "rm(",
     "library": "var_list.r",
     "varRefreshCmd": "cat(var_dic_list()) "
    }
   },
   "types_to_exclude": [
    "module",
    "function",
    "builtin_function_or_method",
    "instance",
    "_Feature"
   ],
   "window_display": false
  }
 },
 "nbformat": 4,
 "nbformat_minor": 2
}
